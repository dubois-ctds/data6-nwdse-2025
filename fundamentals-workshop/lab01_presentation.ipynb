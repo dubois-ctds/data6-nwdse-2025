{
 "cells": [
  {
   "cell_type": "markdown",
   "id": "0408cf3b-f3fc-4487-ac02-76f2e31e8b62",
   "metadata": {},
   "source": [
    "<hr style=\"border: 5px solid #003262;\" />\n",
    "<hr style=\"border: 1px solid #fdb515;\" />\n",
    "\n",
    "# Lab 1: Getting to Know Kaggle and Google Sheets\n",
    "\n",
    "Welcome to the presentation of the first lab for Data Science Focused for Social Sciences! This lab focuses on introducing Kaggle, a resource for data sets, and how to analyze them using Google Sheets. \n",
    "We will be covering how to navigate through your system to download datasets and upload them into Google Sheets.\n",
    "\n",
    "To do this lab, you will need a computer with local storage like a hard drive. Before we get started, it is important that you can access to both Kaggle and Google Sheets. You can use the links below to travel to those websites.\n",
    "- [Kaggle](https://www.kaggle.com)\n",
    "- [Google Sheets](https://workspace.google.com/products/sheets/)"
   ]
  },
  {
   "cell_type": "markdown",
   "id": "a647da4b-629a-41e2-a21d-fcc5ce278a0d",
   "metadata": {
    "jp-MarkdownHeadingCollapsed": true
   },
   "source": [
    "### Group Activity: Kaggle Setup for your Group (5 minutes)\n",
    "\n",
    "To start this activity, please get into a group of at most 5 people. One person will need to create a free Kaggle account, so please designate one person in your group to create a Kaggle account using the link above."
   ]
  },
  {
   "cell_type": "markdown",
   "id": "b60a25c8-606f-49df-85d2-822b151f8aa4",
   "metadata": {},
   "source": [
    "---\n",
    "### Group Activity: Accessing the Datasets in Kaggle (10 minutes)\n",
    "\n",
    "Once your account is set up, you will want to access a dataset for your group to start working with. To do this, go on the Kaggle website after creating your account and select the \"Datasets\" Tab.\n",
    "\n",
    "<details>\n",
    "    <summary>Datasets tab</summary>\n",
    "    <img src=\"https://github.com/dubois-ctds/data6-nwdse-2025/blob/main/fundamentals-workshop/images/kaggle_dataset_location.png?raw=true\" width=\"200\"/>\n",
    "</details>"
   ]
  },
  {
   "cell_type": "markdown",
   "id": "2d5765ac-0fd8-416d-b195-842f1abce976",
   "metadata": {},
   "source": [
    "For this presentation, we will be focusing on datasets that are focused on education. To do this, select the \"Education\" tab once you are in the datasets page on Kaggle.\n",
    "\n",
    "<details>\n",
    "    <summary>Education tab</summary>\n",
    "    <img src=\"https://github.com/dubois-ctds/data6-nwdse-2025/blob/main/fundamentals-workshop/images/education_tab.png?raw=true\" width=\"800\"/>\n",
    "</details>\n"
   ]
  },
  {
   "cell_type": "markdown",
   "id": "fc051a43-a8dc-479b-872e-0a92a854cf5d",
   "metadata": {},
   "source": [
    "Once you have selected the \"Education\" tab, spend some time with your group to select a dataset that your group is interested in. With selecting a dataset, there are some aspects of the dataset you should keep in mind."
   ]
  },
  {
   "cell_type": "markdown",
   "id": "a4b528f7-8add-405e-89f6-88ece18da92e",
   "metadata": {},
   "source": [
    "Computer files take space in the local storage of your computer, and the unit for digital information is called a byte. The common file sizes that are used are:\n",
    "\n",
    "1. Kilobyte (KB) - 1000 bytes\n",
    "2. Megabyte (MB) - 1000 KB\n",
    "3. Gigabyte (GB) - 1000 MB\n",
    "4. Terabyte (TB) - 1000 GB\n",
    "\n",
    "Besides the size, there are other aspects of a dataset we must be mindful of:\n",
    "\n",
    "- Number of rows\n",
    "- Number of columns\n",
    "  - Column Names\n",
    "  - Type of data each column contains\n",
    "\n",
    "This is important because Google Sheets has a **50 MB limit** on files you can upload. With this knowledge, try to find a dataset that interests you and is under 50 MB (preferably closer to 10-15 MB)."
   ]
  },
  {
   "cell_type": "markdown",
   "id": "dccaf758-6dd9-47f7-852f-85c861e1c666",
   "metadata": {},
   "source": [
    "#### Dataset Information\n",
    "When selecting a dataset, there are some tabs in Kaggle that you should know about in order to learn more about your dataset."
   ]
  },
  {
   "cell_type": "markdown",
   "id": "61987932-e1da-4e23-9a17-01a04f082791",
   "metadata": {},
   "source": [
    "When you have selected a dataset, there is a \"About Dataset\" section that provides an overview and description of the dataset; scope, data collection methodology, and data quality standards. Here is an example:"
   ]
  },
  {
   "cell_type": "markdown",
   "id": "d5387c8f-a4b2-49ec-b7c6-6ed54c210f72",
   "metadata": {},
   "source": [
    "<details>\n",
    "    <summary>Kaggle \"About Dataset\" example</summary>\n",
    "    <img src=\"https://github.com/dubois-ctds/data6-nwdse-2025/blob/main/fundamentals-workshop/images/example_dataset.png?raw=true\" width=\"700\"/>\n",
    "</details>"
   ]
  },
  {
   "cell_type": "markdown",
   "id": "4029cc3b-d136-4325-8687-81065019fff0",
   "metadata": {},
   "source": [
    "If you scroll down a bit, you will see another tab named \"Detail\" tab that provides file type and data information. "
   ]
  },
  {
   "cell_type": "markdown",
   "id": "b9ea3e36-8bde-4efb-9994-124753b35777",
   "metadata": {},
   "source": [
    "<details>\n",
    "    <summary>Detail tab</summary>\n",
    "    <img src=\"https://github.com/dubois-ctds/data6-nwdse-2025/blob/main/fundamentals-workshop/images/example_dataset_detail.png?raw=true\" width=\"700\"/>\n",
    "</details>"
   ]
  },
  {
   "cell_type": "markdown",
   "id": "25100c14-40bb-40df-8299-395e93083377",
   "metadata": {},
   "source": [
    "The \"Compact\" tab provides an overview of the dataset as a relational database.\n",
    "\n",
    "- The left blue arrow describes the size of the dataset, and the right blue arrow shows the download icon for the dataset.\n",
    "- The green arrow points to a dropdown menu that displays the number of columns in the dataset.\n",
    "- The red arrow points to a drop down menu that allows you to sort the data by ascending/descending order. You can also choose a minimum and maximum value that you want to see in the dataset as well.   "
   ]
  },
  {
   "cell_type": "markdown",
   "id": "47cde58b-73a9-47f3-a476-9840ebe18f0c",
   "metadata": {},
   "source": [
    "<details>\n",
    "    <summary>Compact tab</summary>\n",
    "    <img src=\"https://github.com/dubois-ctds/data6-nwdse-2025/blob/main/fundamentals-workshop/images/example_dataset_compact.png?raw=true\" width=\"700\"/>\n",
    "</details>"
   ]
  },
  {
   "cell_type": "markdown",
   "id": "7d777f76-57c7-46d5-a167-eb0e54a7ed63",
   "metadata": {},
   "source": [
    "<details>\n",
    "    <summary>Compact Sorting Tab</summary>\n",
    "    <img src=\"https://github.com/dubois-ctds/data6-nwdse-2025/blob/main/fundamentals-workshop/images/dataset_sort.png?raw=true\" width=\"300\"/>\n",
    "</details>"
   ]
  },
  {
   "cell_type": "markdown",
   "id": "c618da3e-e177-4649-ac8c-121d1b7ec808",
   "metadata": {},
   "source": [
    "If you are not able to get Kaggle to work or find a dataset, here are some links to datasets you could use instead:\n",
    "\n",
    "- [Students' Social Media Addiction](https://www.kaggle.com/datasets/adilshamim8/social-media-addiction-vs-relationships) | [Google Sheet for this Dataset](https://docs.google.com/spreadsheets/d/1h2P5d5WtNxpk7peFaDEulIlQxDRODHUEcLV86dE7ZVs/edit?gid=924106707#gid=924106707)\n",
    "- [Student Alcohol Consumption](https://www.kaggle.com/datasets/uciml/student-alcohol-consumption) | [Google Sheet for this Dataset](https://docs.google.com/spreadsheets/d/1mgr1FJaIUflv7IB3anUTve79NYXGJATrfopnyl_dsnE/edit?gid=397365246#gid=397365246)\n",
    "- [Student Performance Factors](https://www.kaggle.com/datasets/lainguyn123/student-performance-factors) | [Google Sheet for this Dataset](https://docs.google.com/spreadsheets/d/1X9EOFHuGfEDP7yT7PeeUcUCz1lGKdj4qdPP-EHgOXz0/edit?gid=913297280#gid=913297280)\n",
    "- [Student Habits vs Academic Performance](https://www.kaggle.com/datasets/jayaantanaath/student-habits-vs-academic-performance) | [Google Sheet for this Dataset](https://docs.google.com/spreadsheets/d/17oNygfrostB8QQtPw3oZwvdne5XU_pZ8wuEG5s4bFA8/edit?gid=495392646#gid=495392646)\n",
    "- [Global YouTube Statistics 2023](https://www.kaggle.com/datasets/nelgiriyewithana/global-youtube-statistics-2023) | [Google Sheet for this Dataset](https://docs.google.com/spreadsheets/d/1UXyKDTjQCJsPBtQ8h_3OQtbgZ0uAC2KyP-sescxB-wc/edit?gid=1982539116#gid=1982539116)\n",
    "\n",
    "Here are 2 other datasets you can choose from, but these are slightly problematic.\n",
    "- [Student Habits and Academic Performance Dataset (No Compact View)](https://www.kaggle.com/datasets/aryan208/student-habits-and-academic-performance-dataset)\n",
    "- [Red Wine Quality (All Numeric Datasets)](https://www.kaggle.com/datasets/uciml/red-wine-quality-cortez-et-al-2009)"
   ]
  },
  {
   "cell_type": "markdown",
   "id": "146c9a65-2122-4c6a-b99b-584cfbd5daac",
   "metadata": {},
   "source": [
    "---\n",
    "\n",
    "### Guiding Questions for Exploring Data Sets"
   ]
  },
  {
   "cell_type": "markdown",
   "id": "1379fc78-82e3-41db-a796-0cec38f25c53",
   "metadata": {},
   "source": [
    "There are some questions that you should keep in mind for the dataset your group chooses:\n",
    "\n",
    "1. What is a question you would like to explore or answer using this dataset?\n",
    "   - Think about something you are curious about or a pattern you would like to discover.\n",
    "2. What measurement(s) or variables from the dataset would help you answer your question?\n",
    "   - Think about the specific columns/types of data you would need\n",
    "3. What is an ethical question or consideration related to analysing/using this dataset?\n",
    "   - Think about how the data could reveal sensitive information, reinforce bias, or be misinterpreted?"
   ]
  },
  {
   "cell_type": "markdown",
   "id": "efc8a1e0-572d-4bda-b05a-de105939d71e",
   "metadata": {},
   "source": [
    "Once these questions have been addressed in your group regarding the dataset you choose, it's time to create questions about your dataset. "
   ]
  },
  {
   "cell_type": "markdown",
   "id": "28d99eeb-b6ce-4de0-a61f-1a5bdf2e2b02",
   "metadata": {},
   "source": [
    "---\n",
    "### Group Activity: Develop 2 Questions about the Dataset (15 minutes)"
   ]
  },
  {
   "cell_type": "markdown",
   "id": "5dbc75db-5062-46fb-8d0a-78b960044a35",
   "metadata": {},
   "source": [
    "Now that your group has selected a dataset to analyze, it's time for your group to create 2 questions that you seek to answer with your dataset. When creating these questions, keep in mind what measurement or measurements would help you answer your questions."
   ]
  },
  {
   "cell_type": "markdown",
   "id": "6170af6e-bef1-49d7-89dd-ffa1f9a14e0e",
   "metadata": {},
   "source": [
    "When creating your questions, there are some ethical considerations that should be noted:\n",
    "\n",
    "- Where does the data come from?\n",
    "- How was the data collected/acquired?\n",
    "- Who benefits from the data collection?\n",
    "- Who might be harmed by the data collection or its use?\n",
    "- Is there consent for data collection?\n",
    "- What was the original purpose for collecting this data?"
   ]
  },
  {
   "cell_type": "markdown",
   "id": "584ddb7c-fb5b-4071-94be-62ad7a49e9a7",
   "metadata": {},
   "source": [
    "*Type questions here*"
   ]
  },
  {
   "cell_type": "markdown",
   "id": "78fb7588-d303-4bc8-a4d1-867d6342dbfd",
   "metadata": {},
   "source": [
    "Once your group has address these questions, there will be time to share your questions with the full audience, so please try to do so!"
   ]
  },
  {
   "cell_type": "markdown",
   "id": "2e04fb89-caf8-4c63-a1a2-dd250979dba1",
   "metadata": {},
   "source": [
    "---\n",
    "### Group Activity: Import the Kaggle Dataset to Google Sheets (5 minutes)"
   ]
  },
  {
   "cell_type": "markdown",
   "id": "30fdc9ab-4183-4c59-a8a2-82e023a690db",
   "metadata": {},
   "source": [
    "Once the group discussion has been completed, it's time to downoad your dataset to import it into Google Sheets. \n",
    "\n",
    "Make sure that the dataset you choose is a .csv file in Kaggle, and the size of the dataset is less than 50 MB in size, preferably <10-15 MB.\n",
    "\n",
    "You can download the dataset as a .csv file. To do this, click on the download button pointed out by the blue arrow on the \"Compact\" tab."
   ]
  },
  {
   "cell_type": "markdown",
   "id": "c992b7fc-f252-4083-b8dc-6bf1d9d1fd4c",
   "metadata": {},
   "source": [
    "<details>\n",
    "    <summary>Download Button Location</summary>\n",
    "    <img src=\"https://github.com/dubois-ctds/data6-nwdse-2025/blob/main/fundamentals-workshop/images/how_to_download.png?raw=true\" width=\"700\"/>\n",
    "</details>"
   ]
  },
  {
   "cell_type": "markdown",
   "id": "70dc9153-c16d-4734-b460-7f5bf35ebea4",
   "metadata": {},
   "source": [
    "Once your dataset is downloaded, you will need to log into Google Sheets using your gmail account. Once you do that, create a blank spreadsheet for you to import your dataset into."
   ]
  },
  {
   "cell_type": "markdown",
   "id": "76d82340-36e5-4a60-85b3-05399841324c",
   "metadata": {},
   "source": [
    "<details>\n",
    "    <summary>Blank Spreadsheet Location</summary>\n",
    "    <img src=\"https://github.com/dubois-ctds/data6-nwdse-2025/blob/main/fundamentals-workshop/images/blank_spreadsheet.png?raw=true\" width=\"900\"/>\n",
    "</details>"
   ]
  },
  {
   "cell_type": "markdown",
   "id": "9b0f6ec2-3f69-45ce-bc7f-f15f57df5916",
   "metadata": {},
   "source": [
    "Once you have created your blank spreadsheet, click on the \"File\" tab and click the \"Open\" option. "
   ]
  },
  {
   "cell_type": "markdown",
   "id": "7a10826e-3479-4d8a-b775-d2f00b07c5f7",
   "metadata": {},
   "source": [
    "<details>\n",
    "    <summary>File Tab Location</summary>\n",
    "    <img src=\"https://github.com/dubois-ctds/data6-nwdse-2025/blob/main/fundamentals-workshop/images/google_spreadsheet.png?raw=true\" width=\"700\"/>\n",
    "</details>"
   ]
  },
  {
   "cell_type": "markdown",
   "id": "b40d191e-e7ee-411f-be54-8617208c50c2",
   "metadata": {},
   "source": [
    "This will open your computer's \"Downloads\" folder for any downloads you have made on your computer. You will want to select the dataset file that you just downloaded to open for the spreadsheet you have just created."
   ]
  },
  {
   "cell_type": "markdown",
   "id": "7eb87259-a0bf-4c15-84ca-62dfcad57b8c",
   "metadata": {},
   "source": [
    "<details>\n",
    "    <summary>Downloads Folder Example</summary>\n",
    "    <img src=\"https://github.com/dubois-ctds/data6-nwdse-2025/blob/main/fundamentals-workshop/images/dataset_location.png?raw=true\" width=\"700\"/>\n",
    "</details>"
   ]
  },
  {
   "cell_type": "markdown",
   "id": "edf8c540-c13b-4f64-9fb1-4188f144b5f0",
   "metadata": {},
   "source": [
    "This will import the dataset you have just downloaded into the blank spreadsheet in Google Sheets. Your spreadsheet should now be filled with information; an example is provided below."
   ]
  },
  {
   "cell_type": "markdown",
   "id": "6c3c7a1b-23e6-4707-a50b-bd9d29f5a46a",
   "metadata": {},
   "source": [
    "<details>\n",
    "    <summary>Imported Dataset Example</summary>\n",
    "    <img src=\"https://github.com/dubois-ctds/data6-nwdse-2025/blob/main/fundamentals-workshop/images/dataset_imported.png?raw=true\" width=\"900\"/>\n",
    "</details>"
   ]
  },
  {
   "cell_type": "markdown",
   "id": "99b5cba2-c2c9-4df8-a925-558d9ce55922",
   "metadata": {},
   "source": [
    "That concludes the presentation of the lab assignment for Data 6! You can find the full lab assignment and then rest of the course materials for the first section of this module in our GIT repository. "
   ]
  }
 ],
 "metadata": {
  "kernelspec": {
   "display_name": "Python 3 (ipykernel)",
   "language": "python",
   "name": "python3"
  },
  "language_info": {
   "codemirror_mode": {
    "name": "ipython",
    "version": 3
   },
   "file_extension": ".py",
   "mimetype": "text/x-python",
   "name": "python",
   "nbconvert_exporter": "python",
   "pygments_lexer": "ipython3",
   "version": "3.11.7"
  }
 },
 "nbformat": 4,
 "nbformat_minor": 5
}
