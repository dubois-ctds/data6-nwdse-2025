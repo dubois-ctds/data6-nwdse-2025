{
 "cells": [
  {
   "cell_type": "code",
   "execution_count": null,
   "metadata": {
    "deletable": false,
    "editable": false
   },
   "outputs": [],
   "source": [
    "# Initialize Otter\n",
    "import otter\n",
    "grader = otter.Notebook(\"lab07.ipynb\")"
   ]
  },
  {
   "cell_type": "markdown",
   "id": "3dead1ee",
   "metadata": {},
   "source": [
    "<img src=\"https://github.com/data-6-berkeley/materials-fa24/blob/main/hw/hw03/data6.png?raw=true\" style=\"width: 15%; float: right; padding: 1%; margin-right: 2%;\"/>\n",
    "\n",
    "# Lab 7 – Data Visualization\n",
    "\n",
    "## Data 6 Visualizations Module\n",
    "So far, we have discussed methods to interpret the data, but what if we want to present our data in a visual format? In this lab, you'll learn several important table methods for producing data visualizations. **Visualizations** are some of the most powerful tools in data science; they're helpful for showing data to people who don't necessarily have a background in data science, and allow data scientists like yourselves to help others understand the data in a more intuitive way.\n",
    "\n",
    "In Lecture 8, we talked about methods we could use to visualize one variable, namely the `barh` and `hist` methods. We added the `scatter` and `plot` methods in Lecture 9. These methods allow us to visualize two or more variables at once, which can open up more patterns in the data and can further improve your ability to visualize data for people who do not necessarily understand data science.\n",
    "\n",
    "As data scientists, it is not only our job to be able to implement various visualization methods, but also to know *when* to use each method. As we build our toolkit of visualization techniques going forward, it's important to understand the **advantages and disadvantages of each visualization type.**"
   ]
  },
  {
   "cell_type": "code",
   "execution_count": null,
   "id": "5ab15cda",
   "metadata": {
    "executionInfo": {
     "elapsed": 1742,
     "status": "ok",
     "timestamp": 1698980580990,
     "user": {
      "displayName": "Amy Alyssa Castillo",
      "userId": "09028318795527832231"
     },
     "user_tz": 420
    }
   },
   "outputs": [],
   "source": [
    "# Run this cell to load all required Python libraries\n",
    "import numpy as np\n",
    "from datascience import *\n",
    "\n",
    "import matplotlib.pyplot as plt\n",
    "plt.style.use(\"ggplot\")\n",
    "%matplotlib inline"
   ]
  },
  {
   "cell_type": "code",
   "execution_count": null,
   "id": "d80d6e47",
   "metadata": {},
   "outputs": [],
   "source": [
    "salary = Table.read_table(\"Salary_data.csv\")\n",
    "clean_salary = Table.read_table(\"clean_data.csv\")\n",
    "clean_salary"
   ]
  },
  {
   "cell_type": "markdown",
   "id": "8b513040",
   "metadata": {},
   "source": [
    "<div class=\"alert alert-warning\">\n",
    "Something important to note before we begin is that the <code>salary</code> dataset that we'll be using today, which includes information on jobholders and their salaries, came from <a href=https://www.kaggle.com/datasets/mohithsairamreddy/salary-data/data>Kaggle</a> and was supposedly combined from multiple surveys, job postings, and other public sources. However, the Kaggle source does not provide any of the original sources that the data was taken from, so we have no idea how reliable or real this data is. It's okay to use data like this for the sake of practice, but when doing so, it is important to remember that the conclusions you can make become much less reliable and trustworthy. When looking to use data that can make an impact, be sure to thoroughly research where your data is coming from and how it was collected. Keep this fact in mind as you're going through the lab!\n",
    "</div>"
   ]
  },
  {
   "cell_type": "markdown",
   "id": "e62719ef",
   "metadata": {},
   "source": [
    "<hr style=\"border: 5px solid #003262;\" />\n",
    "<hr style=\"border: 1px solid #fdb515;\" />\n",
    "\n",
    "## Part 1: Data Visualization Methods for Multiple Variables"
   ]
  },
  {
   "cell_type": "markdown",
   "id": "32359a80",
   "metadata": {},
   "source": [
    "<div class=\"alert alert-warning\">\n",
    "In last week's lab, we saw how we could use bar charts and histograms to visualize indvidual (and occasionally multiple) variables at once, in order to get a better idea of how our dataset is broken down and distributed across different features. In this section, we'll dive more into how we can visualize the relationships between variables and how one variable may affect another. For this part, we'll be honing in on the <code>\"Years of Experience\"</code> variable to test our informal hypothesis that an individual's years of experience may be positively correlated with their salary. Let's start this exploration with scatter plots.\n",
    "</div>"
   ]
  },
  {
   "cell_type": "markdown",
   "id": "3cba92f6",
   "metadata": {},
   "source": [
    "### **The [scatter](http://data8.org/datascience/_autosummary/datascience.tables.Table.scatter.html#datascience.tables.Table.scatter) method**\n",
    "\n",
    "As we mentioned, visualizing two variables can show us patterns in the data. The `scatter` method allows us to see the relationship between two numerical variables in our data by producing a **scatter plot**. The first provided column name goes along the x-axis and the second goes along the y-axis.\n",
    "\n",
    "Let's take a look at the relationship between **years of experience** and **salary** using our `clean_salary` table."
   ]
  },
  {
   "cell_type": "markdown",
   "id": "08ec6247",
   "metadata": {},
   "source": [
    "### Producing Scatter Plots\n",
    "\n",
    "Now, we can call `scatter` on the `clean_salary` table. Run the following cell to do so."
   ]
  },
  {
   "cell_type": "code",
   "execution_count": null,
   "id": "6ce38ce8",
   "metadata": {
    "outputId": "b38443e9-aad3-4f18-c987-1466995ae03b"
   },
   "outputs": [],
   "source": [
    "clean_salary.scatter(\"Years of Experience\", \"Salary\")"
   ]
  },
  {
   "cell_type": "markdown",
   "id": "cae466f4",
   "metadata": {},
   "source": [
    "Just like that, you've produced your first scatter plot! It looks a little messy, however. Often, scatter plots can suffer from what's known as **[overplotting](https://www.displayr.com/what-is-overplotting/)**: when many data points fall on top of each other, creating a blob of data. When this happens, it's often difficult to see the individual data points.\n",
    "\n",
    "To fix this, we can focus in on a smaller subset of the data. In this case, we'll look at individuals who have a PhD education level."
   ]
  },
  {
   "cell_type": "markdown",
   "id": "de745d21",
   "metadata": {},
   "source": [
    "<div class=\"alert alert-warning\">\n",
    "We decide to take only individuals with PhDs as it significantly reduces the size of the data, but something important to note is that whatever trends we find in the scatter plot below might not completely line up with or be true to the trend regarding the general population of the whole dataset.\n",
    "</div>"
   ]
  },
  {
   "cell_type": "markdown",
   "id": "785e6006",
   "metadata": {},
   "source": [
    "### Question 1.1\n",
    "Using `clean_salary`, create a smaller subset of the data named `scatter_phd` that contains only individuals with a PhD"
   ]
  },
  {
   "cell_type": "code",
   "execution_count": null,
   "id": "ca0dbae0",
   "metadata": {
    "outputId": "a984fff2-8854-49ee-db73-0cd717dd1f15",
    "tags": []
   },
   "outputs": [],
   "source": [
    "# Create a smaller subset of data; only individuals with a PhD\n",
    "scatter_phd = clean_salary.where(\"Education Level\", \"PhD\")\n",
    "scatter_phd"
   ]
  },
  {
   "cell_type": "code",
   "execution_count": null,
   "id": "f9a4ad59",
   "metadata": {
    "deletable": false,
    "editable": false
   },
   "outputs": [],
   "source": [
    "grader.check(\"q1_1\")"
   ]
  },
  {
   "cell_type": "markdown",
   "id": "fdffd179",
   "metadata": {},
   "source": [
    "<!-- BEGIN QUESTION -->\n",
    "\n",
    "### Question 1.2\n",
    "Using the `scatter_phd` table, produce a scatter plot that plots `\"Years of Experience\"` on the x-axis and `\"Salary\"` on the y-axis. Your code should be very similar to the previous scatter plot."
   ]
  },
  {
   "cell_type": "code",
   "execution_count": null,
   "id": "58a9329b",
   "metadata": {
    "tags": []
   },
   "outputs": [],
   "source": [
    "# Replace the ... with the necessary code to plot the scatter plot"
   ]
  },
  {
   "cell_type": "markdown",
   "id": "67d8b32d",
   "metadata": {},
   "source": [
    "<!-- END QUESTION -->\n",
    "\n",
    "That looks a little better! There is still a cluster of data points in the bottom left corner, but a relationship can be seen between the two variables."
   ]
  },
  {
   "cell_type": "markdown",
   "id": "cd0fbb18",
   "metadata": {},
   "source": [
    "<div class=\"alert alert-warning\">\n",
    "Analyze your scatter plot above and see if you notice anything interesting. One question to consider is why there are distinct vertical lines of data points, and how this makes sense based on how the <code>\"Years of Experience\"</code> feature is represented.\n",
    "</div>"
   ]
  },
  {
   "cell_type": "markdown",
   "id": "2520473a",
   "metadata": {},
   "source": [
    "<!-- BEGIN QUESTION -->\n",
    "\n",
    "### Question 1.3 (Discussion)\n",
    "What relationship between years of experience and salary (for PhD holders specifically, in this case) does the above scatter plot reveal? "
   ]
  },
  {
   "cell_type": "markdown",
   "id": "7a5fbeea",
   "metadata": {},
   "source": [
    "_Type your answer here, replacing this text._"
   ]
  },
  {
   "cell_type": "markdown",
   "id": "3c492389",
   "metadata": {},
   "source": [
    "<!-- END QUESTION -->\n",
    "\n",
    "### Optional argument: `group`\n",
    "\n",
    "The `scatter` method also allows you to specify specific a group for each data point using the `group` keyword argument.\n",
    "\n",
    "Say we wanted to investigate the relationship between an individual's **years of experience** and their **salary** with respect to their reported **gender**."
   ]
  },
  {
   "cell_type": "code",
   "execution_count": null,
   "id": "f5fb9be7",
   "metadata": {
    "outputId": "08f8c511-dd49-4499-adc2-d886214b38e5"
   },
   "outputs": [],
   "source": [
    "scatter_phd.scatter(\"Years of Experience\", \"Salary\", group = \"Gender\")"
   ]
  },
  {
   "cell_type": "markdown",
   "id": "29028f12",
   "metadata": {},
   "source": [
    "By utilizing the `group` argument, we see our scatter plot stratified into the different categories our data has for gender. This gives us a better insight into the trends of the relationship between years of experience and salary for each gender, rather than simply looking at all gender categories together."
   ]
  },
  {
   "cell_type": "markdown",
   "id": "9aa1e06a",
   "metadata": {},
   "source": [
    "<!-- BEGIN QUESTION -->\n",
    "\n",
    "### Question 1.4 (Discussion)\n",
    "Are there any patterns you can notice from the scatter plot? Gender biases, when one gender is given preferential treatment (promotions, higher salaries, less work, etc.) over another or when there is a prejudice against one gender, can be prevalent within the workplace. Does this scatter plot show any gender biases? What might this look like in a real-world setting?"
   ]
  },
  {
   "cell_type": "markdown",
   "id": "38cc0a18",
   "metadata": {},
   "source": [
    "_Type your answer here, replacing this text._"
   ]
  },
  {
   "cell_type": "markdown",
   "id": "ca974165",
   "metadata": {},
   "source": [
    "<!-- END QUESTION -->\n",
    "\n",
    "Scatter plots are useful when visualizing two numerical variables together. If you want to plot two numerical variables but one variable corresponds to time, we can use a line plot to visualize this instead."
   ]
  },
  {
   "cell_type": "markdown",
   "id": "0847845d",
   "metadata": {},
   "source": [
    "<hr style=\"border: 5px solid #003262;\" />\n",
    "<hr style=\"border: 1px solid #fdb515;\" />\n",
    "\n",
    "## Part 2: Visualizing with `plot`\n",
    "\n",
    "---\n",
    "### **The [plot](http://data8.org/datascience/_autosummary/datascience.tables.Table.plot.html#datascience.tables.Table.plot) method**\n",
    "\n",
    "Similar to `scatter`, we give `plot` the names of two numerical columns and it creates a **line plot** for us. If we want to draw multiple line plots on the same set of axes, we give it a table with multiple numerical columns, and tell it which one contains the values for the x-axis.\n",
    "\n",
    "The `plot` method allows us to see how non-time variables change over time. Let's use `plot` to look at the age patterns over the course of years of experience. First, we will look at a single line plot using `plot`:"
   ]
  },
  {
   "cell_type": "code",
   "execution_count": null,
   "id": "6bda4862",
   "metadata": {
    "outputId": "49b47adb-6b69-4582-d576-b26a99e49de7"
   },
   "outputs": [],
   "source": [
    "# Just run this cell -- don't worry about the `group` or `drop` methods\n",
    "experience_age = clean_salary.group(\"Years of Experience\", np.mean).drop(\"Gender mean\", \"Job Title mean\", \"Education Level mean\", \"Salary mean\")\n",
    "experience_age"
   ]
  },
  {
   "cell_type": "markdown",
   "id": "69ce18ad",
   "metadata": {},
   "source": [
    "<!-- BEGIN QUESTION -->\n",
    "\n",
    "### Question 2.1\n",
    "Using the `experience_age` table and the `plot` method, produce a *line plot* that plots the average age over years of experience.\n",
    "\n",
    "*Hint*: You'll want to plot the years of experience on the x-axis and average age on the y-axis."
   ]
  },
  {
   "cell_type": "code",
   "execution_count": null,
   "id": "f5436e84",
   "metadata": {
    "tags": []
   },
   "outputs": [],
   "source": [
    "# Replace the ... with the necessary code to plot the scatter plot"
   ]
  },
  {
   "cell_type": "markdown",
   "id": "f01d20e4",
   "metadata": {},
   "source": [
    "<!-- END QUESTION -->\n",
    "\n",
    "### Identifying Temporal Patterns\n",
    "\n",
    "Line plots are incredibly effective tools for identifying temporal patterns (i.e. changes over time). Let's utilize our newfound knowledge of the `plot` method to uncover underlying temporal patterns within each education level as they get more years of experience. Run the following cell to create tables for each education level and the average salary for each additional year of experience. The subsequent cells will create their respective plots. Analyze the graphs and answer the question that follows."
   ]
  },
  {
   "cell_type": "code",
   "execution_count": null,
   "id": "3e978403",
   "metadata": {},
   "outputs": [],
   "source": [
    "# Create tables for each education level\n",
    "hs_salary_avg = clean_salary.where(\"Education Level\", are.equal_to(\"High School\")).group(\"Years of Experience\", np.mean).drop(\"Gender mean\", \"Job Title mean\", \"Education Level mean\", \"Age mean\")\n",
    "bachelor_salary_avg = clean_salary.where(\"Education Level\", are.equal_to(\"Bachelor's Degree\")).group(\"Years of Experience\", np.mean).drop(\"Gender mean\", \"Job Title mean\", \"Education Level mean\", \"Age mean\")\n",
    "master_salary_avg = clean_salary.where(\"Education Level\", are.equal_to(\"Master's Degree\")).group(\"Years of Experience\", np.mean).drop(\"Gender mean\", \"Job Title mean\", \"Education Level mean\", \"Age mean\")\n",
    "phd_salary_avg = clean_salary.where(\"Education Level\", are.equal_to(\"PhD\")).group(\"Years of Experience\", np.mean).drop(\"Gender mean\", \"Job Title mean\", \"Education Level mean\", \"Age mean\")"
   ]
  },
  {
   "cell_type": "code",
   "execution_count": null,
   "id": "44a52e08",
   "metadata": {
    "outputId": "6aa15b48-16a2-43d8-bb6b-008975c97833"
   },
   "outputs": [],
   "source": [
    "# Run this cell to produce a line plot for the high school education salary average\n",
    "hs_salary_avg.plot(\"Years of Experience\", \"Salary mean\")"
   ]
  },
  {
   "cell_type": "code",
   "execution_count": null,
   "id": "9ba255d3",
   "metadata": {
    "outputId": "e303056a-0603-4caa-9800-f9aa784b05d2"
   },
   "outputs": [],
   "source": [
    "# Run this cell to produce a line plot for the bachelor's degree salary average\n",
    "bachelor_salary_avg.plot(\"Years of Experience\", \"Salary mean\")"
   ]
  },
  {
   "cell_type": "code",
   "execution_count": null,
   "id": "21931768",
   "metadata": {
    "outputId": "08c4fd9f-16b4-432c-a7a4-e135c9b3f578"
   },
   "outputs": [],
   "source": [
    "# Run this cell to produce a line plot for the master's degree salary average\n",
    "master_salary_avg.plot(\"Years of Experience\", \"Salary mean\")"
   ]
  },
  {
   "cell_type": "code",
   "execution_count": null,
   "id": "186177a0",
   "metadata": {
    "outputId": "dac49a98-4a9b-4840-d1f0-f62713ea354b"
   },
   "outputs": [],
   "source": [
    "# Run this cell to produce a line plot for the PhD salary average\n",
    "phd_salary_avg.plot(\"Years of Experience\", \"Salary mean\")"
   ]
  },
  {
   "cell_type": "markdown",
   "id": "bf0c750a",
   "metadata": {},
   "source": [
    "<!-- BEGIN QUESTION -->\n",
    "\n",
    "### Question 2.5 (Discussion)\n",
    "What patterns do you notice when comparing these line plots? Do any of them stand out to you? Do the results you are seeing make sense with respect to your knowlege of education levels? Be sure to pay close attention to the scales of the axes for each plot!"
   ]
  },
  {
   "cell_type": "markdown",
   "id": "feb1155e",
   "metadata": {},
   "source": [
    "_Type your answer here, replacing this text._"
   ]
  },
  {
   "cell_type": "markdown",
   "id": "1529e434",
   "metadata": {},
   "source": [
    "<!-- END QUESTION -->\n",
    "\n",
    "### Multiple Variables\n",
    "If we want to visualize multiple variables on one plot, we can include them all in the table we call `plot` on."
   ]
  },
  {
   "cell_type": "code",
   "execution_count": null,
   "id": "688d681a",
   "metadata": {
    "outputId": "acf0d994-ac97-46bb-ea99-15b70c1d02ba"
   },
   "outputs": [],
   "source": [
    "experience_age_salary = clean_salary.group(\"Years of Experience\", np.mean).drop(\"Gender mean\", \"Education Level mean\", \"Job Title mean\")\n",
    "experience_age_salary"
   ]
  },
  {
   "cell_type": "markdown",
   "id": "6bedde79",
   "metadata": {},
   "source": [
    "Since we are trying to compare `\"Salary mean\"` and `\"Age mean\"` and their units are different, we have to manipulate the data before plotting. To do this, let's first divide the `\"Salary mean\"` column by 1000 to get a better sense of the relationship. The cell below does this data manipulation for you."
   ]
  },
  {
   "cell_type": "code",
   "execution_count": null,
   "id": "1a5ca841",
   "metadata": {
    "outputId": "6195486c-2862-4647-f296-156c40e96f61"
   },
   "outputs": [],
   "source": [
    "experience_age_salary = experience_age_salary.with_column('Salary mean', experience_age_salary.column('Salary mean') / 1000)\n",
    "experience_age_salary"
   ]
  },
  {
   "cell_type": "markdown",
   "id": "c8f40754",
   "metadata": {},
   "source": [
    "<!-- BEGIN QUESTION -->\n",
    "\n",
    "### Question 2.6\n",
    "Using the `experience_age_salary` table, produce a scatter plot with *one line per variable* other than `\"Years of Experience\"`. That is, `\"Years of Experience\"` should be plotted on the x-axis."
   ]
  },
  {
   "cell_type": "code",
   "execution_count": null,
   "id": "3a60e419",
   "metadata": {
    "tags": []
   },
   "outputs": [],
   "source": [
    "# Replace the ... with the necessary code to plot the scatter plot"
   ]
  },
  {
   "cell_type": "markdown",
   "id": "e77675a5",
   "metadata": {},
   "source": [
    "<!-- END QUESTION -->\n",
    "\n",
    "---\n",
    "## Done! 😇"
   ]
  },
  {
   "cell_type": "markdown",
   "id": "6b77296b",
   "metadata": {},
   "source": [
    "---"
   ]
  },
  {
   "attachments": {},
   "cell_type": "markdown",
   "id": "7ff73aa4",
   "metadata": {},
   "source": [
    "## Pets of Data 6\n",
    "Make sure to be well rested!\n",
    "\n",
    "<img src=\"https://github.com/data-6-berkeley/materials-su24/blob/main/lab/lab03/paulina.JPG?raw=true\" width=\"50%\" alt=\"Cute dog\"/>"
   ]
  },
  {
   "cell_type": "markdown",
   "metadata": {
    "deletable": false,
    "editable": false
   },
   "source": [
    "## Submission\n",
    "\n",
    "Make sure you have run all cells in your notebook in order before running the cell below, so that all images/graphs appear in the output. The cell below will generate a zip file for you to submit. **Please save before exporting!**"
   ]
  },
  {
   "cell_type": "code",
   "execution_count": null,
   "metadata": {
    "deletable": false,
    "editable": false
   },
   "outputs": [],
   "source": [
    "# Save your notebook first, then run this cell to export your submission.\n",
    "grader.export(pdf=False, run_tests=True)"
   ]
  },
  {
   "cell_type": "markdown",
   "metadata": {},
   "source": [
    " "
   ]
  }
 ],
 "metadata": {
  "kernelspec": {
   "display_name": "env",
   "language": "python",
   "name": "python3"
  },
  "language_info": {
   "codemirror_mode": {
    "name": "ipython",
    "version": 3
   },
   "file_extension": ".py",
   "mimetype": "text/x-python",
   "name": "python",
   "nbconvert_exporter": "python",
   "pygments_lexer": "ipython3",
   "version": "3.12.7"
  },
  "otter": {
   "OK_FORMAT": true,
   "tests": {
    "q1_1": {
     "name": "q1_1",
     "points": 1,
     "suites": [
      {
       "cases": [
        {
         "code": ">>> assert scatter_phd.num_rows == 1369\n",
         "hidden": false,
         "locked": false
        },
        {
         "code": ">>> assert scatter_phd.where(\"Education Level\", are.not_equal_to(\"PhD\")).num_rows == 0\n",
         "hidden": false,
         "locked": false
        }
       ],
       "scored": true,
       "setup": "",
       "teardown": "",
       "type": "doctest"
      }
     ]
    }
   }
  }
 },
 "nbformat": 4,
 "nbformat_minor": 5
}
