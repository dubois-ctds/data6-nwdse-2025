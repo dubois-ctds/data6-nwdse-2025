{
 "cells": [
  {
   "cell_type": "code",
   "execution_count": null,
   "id": "640acef9",
   "metadata": {
    "deletable": false,
    "editable": false
   },
   "outputs": [],
   "source": [
    "# Initialize Otter\n",
    "import otter\n",
    "grader = otter.Notebook(\"lab06.ipynb\")"
   ]
  },
  {
   "cell_type": "markdown",
   "id": "57663d66",
   "metadata": {},
   "source": [
    "<img src=\"https://github.com/data-6-berkeley/materials-fa24/blob/main/hw/hw03/data6.png?raw=true\" style=\"width: 15%; float: right; padding: 1%; margin-right: 2%;\"/>\n",
    "\n",
    "# Lab 6 – Data Visualization\n",
    "\n",
    "## Data 6 Visualizations Module\n",
    "So far, we have discussed methods to interpret the data, but what if we want to present our data in a visual format? In this lab, you'll learn several important table methods for producing data visualizations. **Visualizations** are some of the most powerful tools in data science; they're helpful for showing data to people who don't necessarily have a background in data science, and allow data scientists like yourselves to help others understand the data in a more intuitive way.\n",
    "\n",
    "\n",
    "As data scientists, it is not only our job to be able to implement various visualization methods, but also to know *when* to use each method. As we build our toolkit of visualization techniques going forward, it's important to understand the **advantages and disadvantages of each visualization type.**"
   ]
  },
  {
   "cell_type": "code",
   "execution_count": null,
   "id": "dcb347e2",
   "metadata": {
    "executionInfo": {
     "elapsed": 1742,
     "status": "ok",
     "timestamp": 1698980580990,
     "user": {
      "displayName": "Amy Alyssa Castillo",
      "userId": "09028318795527832231"
     },
     "user_tz": 420
    }
   },
   "outputs": [],
   "source": [
    "# Run this cell to load all required Python libraries\n",
    "import numpy as np\n",
    "from datascience import *\n",
    "\n",
    "import matplotlib.pyplot as plt\n",
    "plt.style.use(\"ggplot\")\n",
    "%matplotlib inline"
   ]
  },
  {
   "cell_type": "markdown",
   "id": "69337e62",
   "metadata": {},
   "source": [
    "<div class=\"alert alert-warning\">\n",
    "Something important to note before we begin is that the <code>salary</code> dataset that we'll be using today, which includes information on jobholders and their salaries, came from <a href=https://www.kaggle.com/datasets/mohithsairamreddy/salary-data/data>Kaggle</a> and was supposedly combined from multiple surveys, job postings, and other public sources. However, the Kaggle source does not provide any of the original sources that the data was taken from, so we have no idea how reliable or real this data is. It's okay to use data like this for the sake of practice, but when doing so, it is important to remember that the conclusions you can make become much less reliable and trustworthy. When looking to use data that can make an impact, be sure to thoroughly research where your data is coming from and how it was collected. Keep this fact in mind as you're going through the lab!\n",
    "</div>"
   ]
  },
  {
   "cell_type": "markdown",
   "id": "7018613f",
   "metadata": {},
   "source": [
    "<hr style=\"border: 5px solid #003262;\" />\n",
    "<hr style=\"border: 1px solid #fdb515;\" />\n",
    "\n",
    "## Part 1: Data Visualization Methods for One Variable"
   ]
  },
  {
   "cell_type": "markdown",
   "id": "96c510c0",
   "metadata": {},
   "source": [
    "<div class=\"alert alert-warning\">\n",
    "As stated in the introduction, this dataset contains information on jobholders and their salaries, so we'll be using it today to visualize some of the relationships between various characteristics of a jobholder and their salaries. For example, what sort of relationship might we see between an individual's gender and their salary? Is there a correlation between an individual's education level or years of experience and their salary? These are interesting starting questions to dive into exploration of the data, but remember what we said in the introduction: we aren't sure of the reliability of this data, so if we wanted to make concrete conclusions, we would need to check our results against more reliable sources. <br> <br>\n",
    "\n",
    "In this first part of the lab, we'll be looking at some methods for visualizing one variable, whether it's numeric or qualitative.\n",
    "</div>"
   ]
  },
  {
   "cell_type": "markdown",
   "id": "955d7537",
   "metadata": {},
   "source": [
    "<div class=\"alert alert-warning\">\n",
    "Let's begin by loading in the original <code>Salary_Data.csv</code> file. This data required a lot of cleaning and manipulating behind the scenes in order to produce the visualizations in the lab, so be sure to keep that in mind: a lot of the time, you'll need to put work into preparing your data for analysis and visualization (thank you to Atticus and Edwin from Summer 2024). Since some of the methods are out-of-scope for this course, we've done the cleaning for you beforehand.\n",
    "</div>"
   ]
  },
  {
   "cell_type": "code",
   "execution_count": null,
   "id": "580f6da0",
   "metadata": {
    "colab": {
     "base_uri": "https://localhost:8080/",
     "height": 374
    },
    "executionInfo": {
     "elapsed": 216,
     "status": "error",
     "timestamp": 1698980581203,
     "user": {
      "displayName": "Amy Alyssa Castillo",
      "userId": "09028318795527832231"
     },
     "user_tz": 420
    },
    "outputId": "a615bb86-2f97-489f-f3bd-08200c16452d"
   },
   "outputs": [],
   "source": [
    "salary = Table.read_table(\"Salary_data.csv\")\n",
    "salary.show(5)\n",
    "np.unique(salary.column('Job Title'))"
   ]
  },
  {
   "cell_type": "markdown",
   "id": "3e4803a3",
   "metadata": {},
   "source": [
    "### Contextualizing the Data\n",
    "As data scientists, it's important to take a look at the data we're working with to understand the information we have available to us. Take some time to look at our `salary` table and try to understand what information we have."
   ]
  },
  {
   "cell_type": "markdown",
   "id": "86d44af7",
   "metadata": {},
   "source": [
    "<div class=\"alert alert-warning\">\n",
    "One of the concepts we discussed in lecture was the <strong>unit of analysis</strong>, which comes from sociology. We defined it as essentially the entity that we are studying, which can range from the micro level (such as an individual) to the macro level (such as a nation). When first looking into our data, the level of the unit of analysis within our dataset is always important to consider.\n",
    "</div>"
   ]
  },
  {
   "cell_type": "markdown",
   "id": "f57afecd",
   "metadata": {},
   "source": [
    "<!-- BEGIN QUESTION -->\n",
    "\n",
    "### Question 1.1 (Discussion)\n",
    "What information does our table tell us? Additionally, what does each record (i.e. row) represent? In other words, what is the unit of analysis of our dataset?"
   ]
  },
  {
   "cell_type": "markdown",
   "id": "6abb8e63",
   "metadata": {},
   "source": [
    "This table tells us about an individual's age, gender, education level, job title, years of experience, and salary. Unit of analysis are employees individuals that live in India. Each row represents one person."
   ]
  },
  {
   "cell_type": "markdown",
   "id": "8b74adc9",
   "metadata": {},
   "source": [
    "<!-- END QUESTION -->\n",
    "\n",
    "<!-- BEGIN QUESTION -->\n",
    "\n",
    "### Question 1.2 (Discussion)\n",
    "Are there any features (columns) of the data that may affect one another? What patterns can we learn from this data?"
   ]
  },
  {
   "cell_type": "markdown",
   "id": "cbec0c07",
   "metadata": {},
   "source": [
    "Age can affect the years of experience (or be correlated to one another). Years of experience could affect compensation level."
   ]
  },
  {
   "cell_type": "markdown",
   "id": "e2d77b61",
   "metadata": {},
   "source": [
    "<!-- END QUESTION -->\n",
    "\n",
    "<div class=\"alert alert-warning\">\n",
    "Because we expect some of the features to affect one another, this is another reason that we have to take our findings with a grain of salt: in some cases, there might appear to be a relationship among variables related to salary, but it may simply just because these variables are not independent of each other.\n",
    "</div>"
   ]
  },
  {
   "cell_type": "markdown",
   "id": "2d511baa",
   "metadata": {},
   "source": [
    "---\n",
    "### **The [barh](http://data8.org/datascience/_autosummary/datascience.tables.Table.barh.html#datascience.tables.Table.barh) method**\n",
    "\n",
    "The `barh` (horizontal bar chart) method is used to visualize **categorical** variable values. Categorical variables are non-numbers, like names and qualities (Color, Gender, Name etc.). As we saw in lecture, categorical variables come in 2 different types: *ordinal* and *nominal*. \n",
    "\n",
    "The `barh` method takes in 1 mandatory argument, which is the **name of the column** you want on the left (vertical) axis of your `barh` plot. There are also optional arguments that have to do with plotting -- you'll see examples of those in this lab and in the homework. The remaining optional arguments in the `datascience` documentation linked above can also be used, feel free to try out some of the others on your own!\n",
    "\n",
    "**Important note:** To use the `barh` method properly, we first need to select the columns we want to see in the graph. We should not call `barh` directly on a large `Table` because without specifying a column, we get a bar graph for every single instance of every single variable, which you can imagine results in a lot of bar graphs. Therefore, in the cell below and throughout the lab **we utilize more advanced table functions for aggregating the data to make visualization easier.** Most of these functions are out of scope for this lab or this course. Just focus on the methods and functions for creating the visualizations throughout the lab!"
   ]
  },
  {
   "cell_type": "markdown",
   "id": "d7b40c6e",
   "metadata": {},
   "source": [
    "<div class=\"alert alert-warning\">\n",
    "In the context of our exploration of what factors impact salary, this visualization method (as well as <code>hist</code>, the next method we look at) will be very helpful in better understanding the breakdown of features that we're interested in, such as education level and gender, within the dataset.\n",
    "</div>"
   ]
  },
  {
   "cell_type": "code",
   "execution_count": null,
   "id": "adc7f3d1",
   "metadata": {
    "outputId": "97bc74e1-fd97-4662-8714-2a3d048d6b6b"
   },
   "outputs": [],
   "source": [
    "gender = salary.group(\"Gender\")\n",
    "gender"
   ]
  },
  {
   "cell_type": "markdown",
   "id": "fe0c8db3",
   "metadata": {},
   "source": [
    "\n",
    "Since the `gender` table only has two columns, we can plot it with `barh`. The plot below results in one bar for each gender category, corresponding to the number of rows in the table with that value. "
   ]
  },
  {
   "cell_type": "code",
   "execution_count": null,
   "id": "65101df0",
   "metadata": {
    "outputId": "8f266198-3ae8-4d74-806c-2c307238481d"
   },
   "outputs": [],
   "source": [
    "gender.plot(\"count\", \"count\", title = \"HI\")"
   ]
  },
  {
   "cell_type": "markdown",
   "id": "6bfda2c8",
   "metadata": {},
   "source": [
    "Next, we can try to create the same graph to visualize education levels!"
   ]
  },
  {
   "cell_type": "code",
   "execution_count": null,
   "id": "28c11971",
   "metadata": {
    "outputId": "8f767d6a-2fe4-41fc-a96a-8d0c1893d060"
   },
   "outputs": [],
   "source": [
    "education = salary.group(\"Education Level\")\n",
    "updated_bachelors = education.with_row([\"Bachelor's\", 756 + 2265])\n",
    "updated_bachelors = updated_bachelors.take(np.arange(2, updated_bachelors.num_rows))\n",
    "updated_bachelors"
   ]
  },
  {
   "cell_type": "markdown",
   "id": "62d2afcd",
   "metadata": {},
   "source": [
    "We see above that there are different values that actually mean the same thing (\"Bachelor's\" vs \"Bachelor's Degree\", etc.). To make sure all of the value names are consistent, we will load a fully cleaned version of the salary data into a table called `clean_salary`. We will then proceed to use this cleaned version for the rest of our table and visualization operations."
   ]
  },
  {
   "cell_type": "code",
   "execution_count": null,
   "id": "3f678cb6",
   "metadata": {},
   "outputs": [],
   "source": [
    "clean_salary = Table.read_table(\"clean_data.csv\")\n",
    "clean_salary"
   ]
  },
  {
   "cell_type": "markdown",
   "id": "f08b4b0b",
   "metadata": {},
   "source": [
    "Now, if we group our data by `\"Education Level\"` you will see much more consistent values."
   ]
  },
  {
   "cell_type": "code",
   "execution_count": null,
   "id": "fbdc2e3f",
   "metadata": {
    "outputId": "246ca35d-5101-406d-bd4f-ccb2401d7d13"
   },
   "outputs": [],
   "source": [
    "education = clean_salary.group(\"Education Level\").take(make_array(1, 0, 2, 3))\n",
    "education"
   ]
  },
  {
   "cell_type": "markdown",
   "id": "b49bcecd",
   "metadata": {},
   "source": [
    "<!-- BEGIN QUESTION -->\n",
    "\n",
    "### Question 1.3\n",
    "Following the example of the `gender` bar chart above, plot a horizontal bar chart that shows the counts of each category from the `\"Education Level\"` column.\n",
    "\n",
    "*Hint*: Use the `education` table."
   ]
  },
  {
   "cell_type": "code",
   "execution_count": null,
   "id": "ce207b30",
   "metadata": {
    "tags": []
   },
   "outputs": [],
   "source": [
    "education.barh(\"Education Level\")"
   ]
  },
  {
   "cell_type": "markdown",
   "id": "0db74d7c",
   "metadata": {},
   "source": [
    "<!-- END QUESTION -->\n",
    "\n",
    "### Multiple Columns\n",
    "\n",
    "We can also use `barh` to see multiple statistics at once. Let's use the `barh` method to see the average number of both *age* and *years of experience* for each eduction level. We'll be using the following columns:\n",
    "1. `\"Years of Experience\"`: The average years of experience of the employees with that education level\n",
    "2. `\"Age\"`: The average age of the employees with that education level\n",
    "\n",
    "Run the following cell to load an aggregated version of the dataset that contains the average statistics for each education level."
   ]
  },
  {
   "cell_type": "code",
   "execution_count": null,
   "id": "719198fc",
   "metadata": {},
   "outputs": [],
   "source": [
    "education_averages = clean_salary.group(\"Education Level\", np.mean).drop(\"Gender mean\", \"Job Title mean\")\n",
    "education_averages"
   ]
  },
  {
   "cell_type": "markdown",
   "id": "a0874060",
   "metadata": {},
   "source": [
    "To look at *only* years of experience and age average for each education level, we need to select the `\"Education Level\"`, `\"Years of Experience Average\"`, and `\"Age Average\"` columns. We will discuss this method in the next lab, so don't worry if it doesn't make sense for now."
   ]
  },
  {
   "cell_type": "code",
   "execution_count": null,
   "id": "69f24c92",
   "metadata": {
    "outputId": "da6f5c8c-d252-4621-df16-87d5732ea892"
   },
   "outputs": [],
   "source": [
    "age_experience = education_averages.select(\"Education Level\", \"Years of Experience mean\", \"Age mean\").take(make_array(1, 0, 2, 3))\n",
    "age_experience"
   ]
  },
  {
   "cell_type": "markdown",
   "id": "e9394d12",
   "metadata": {},
   "source": [
    "Run the following cell to show an example of how to create an **overlaid bar chart** with two statistics."
   ]
  },
  {
   "cell_type": "code",
   "execution_count": null,
   "id": "07d47aa6",
   "metadata": {
    "outputId": "0ed44e7e-b899-4fc3-8e7d-f269d966f040"
   },
   "outputs": [],
   "source": [
    "age_experience.barh(\"Education Level\", overlay = True)"
   ]
  },
  {
   "cell_type": "markdown",
   "id": "c0df5891",
   "metadata": {},
   "source": [
    "If we want different visualizations for each variable, we can set the optional `overlay` argument to `False`. The default value of `overlay` is `True`, so if you don't give it a value, you will get a plot with all the included variables at once."
   ]
  },
  {
   "cell_type": "code",
   "execution_count": null,
   "id": "e915928f",
   "metadata": {
    "outputId": "85284ce1-9a61-4b3b-8c73-c942b48bbaa9"
   },
   "outputs": [],
   "source": [
    "age_experience.barh(\"Education Level\", overlay = False)"
   ]
  },
  {
   "cell_type": "markdown",
   "id": "d0c2fb51",
   "metadata": {},
   "source": [
    "This way, we can choose if we want to create one plot with all our information or a new plot for each piece of information!"
   ]
  },
  {
   "cell_type": "markdown",
   "id": "566247bf",
   "metadata": {},
   "source": [
    "### Where `barh` fails\n",
    "\n",
    "The `barh` method works well on categorical variables, but what if we have a **numerical** variable that we want to see the distribution of? Let's see what happens if we try to use `barh` on a numerical variable (`\"Salary\"`) instead of a categorical variable:"
   ]
  },
  {
   "cell_type": "code",
   "execution_count": null,
   "id": "a5454103",
   "metadata": {},
   "outputs": [],
   "source": [
    "clean_salary.group('Salary')"
   ]
  },
  {
   "cell_type": "code",
   "execution_count": null,
   "id": "36a8b239",
   "metadata": {
    "outputId": "65e72af6-e73d-4938-e1b4-99adb74d33b9"
   },
   "outputs": [],
   "source": [
    "clean_salary.group(\"Salary\").where('Salary', are.above(190000)).barh(\"Salary\")"
   ]
  },
  {
   "cell_type": "markdown",
   "id": "07fea275",
   "metadata": {},
   "source": [
    "As you can see, this bar plot is not particularly helpful. There are many categories that seem to not have any corresponding bar. Yet, that isn't the case! Seeing the breakdown of `\"Salary\"` does not provide us with any useful information, and it is also difficult to read or understand. Instead, for numerical variables, we have another visualization method that helps us visualize a numerical variable's distribution: **histograms**."
   ]
  },
  {
   "cell_type": "markdown",
   "id": "e1228043",
   "metadata": {},
   "source": [
    "---\n",
    "### **The [hist](http://data8.org/datascience/_autosummary/datascience.tables.Table.hist.html#datascience.tables.Table.hist) method**\n",
    "\n",
    "The `hist` method allows us to see the distribution of a numerical variable. `hist` takes in 1 mandatory argument and has several optional arguments (feel free to look through the documentation and explore these optional arguments as before). **Remember: categorical variables should be visualized using `barh`, and numerical variables should be visualized using `hist`.**\n",
    "\n",
    "Let's take a look at the distribution of salaries among people to see how the `hist` method helps visualize numerical variables. We'll use the `clean_salary` table to create this histogram."
   ]
  },
  {
   "cell_type": "code",
   "execution_count": null,
   "id": "5a4d2c99",
   "metadata": {},
   "outputs": [],
   "source": [
    "# This plot shows the distribution of salaries among employees\n",
    "my_bins = np.arange(0, 300000, 10000)\n",
    "clean_salary.hist(\"Salary\", density = False, bins = my_bins)"
   ]
  },
  {
   "cell_type": "markdown",
   "id": "4e0d2085",
   "metadata": {},
   "source": [
    "This shows us that most people have a salary between around 50,000 and 190,000. But there are also many people whose salaries are not in this range, due to how we specified the bins."
   ]
  },
  {
   "cell_type": "markdown",
   "id": "42a44ea1",
   "metadata": {},
   "source": [
    "<!-- BEGIN QUESTION -->\n",
    "\n",
    "### Question 1.4\n",
    "Fill in the following code cell to produce a histogram representing the **distribution of years of experience** for employees.\n",
    "\n",
    "*Note*: Set the optional `bins` argument of the `hist` method to `my_bins`. We've provided this variable for you."
   ]
  },
  {
   "cell_type": "code",
   "execution_count": null,
   "id": "f73660bf",
   "metadata": {
    "tags": []
   },
   "outputs": [],
   "source": [
    "my_bins = np.arange(0, 35, 3)\n",
    "clean_salary.hist(\"Years of Experience\", density = True, bins = my_bins)"
   ]
  },
  {
   "cell_type": "markdown",
   "id": "63d9cc1b",
   "metadata": {},
   "source": [
    "<!-- END QUESTION -->\n",
    "\n",
    "### Bachelor's Degree vs. Master's Degree"
   ]
  },
  {
   "cell_type": "markdown",
   "id": "f7219e4d",
   "metadata": {},
   "source": [
    "Next, we'll explore a functionality of histograms that allows us to compare the salaries of bachelor's degree holders vs. those of master's holders. We can use `hist` on a `Table` with the rows for just these two education levels and use the optional `group` argument.\n",
    "\n",
    "*Note*: You'll see how `are.contained_in` works with the `where` method in the next lab. For now, think of it as finding any rows corresponding to *either* `\"Bachelor's Degree\"` or `\"Master's Degree\"`."
   ]
  },
  {
   "cell_type": "code",
   "execution_count": null,
   "id": "1075fa30",
   "metadata": {
    "outputId": "56762c4a-d047-4256-f41d-8b62d55e8ef2"
   },
   "outputs": [],
   "source": [
    "# Just run this cell to create the `bachelor_master` table\n",
    "bachelor_master = clean_salary.where(\"Education Level\", are.contained_in([\"Bachelor's Degree\", \"Master's Degree\"]))\n",
    "bachelor_master.show(5)"
   ]
  },
  {
   "cell_type": "markdown",
   "id": "3d0f35e8",
   "metadata": {},
   "source": [
    "<!-- BEGIN QUESTION -->\n",
    "\n",
    "### Question 1.5\n",
    "Now that we've created our `bachelor_master` table, fill in the following code cell to produce a histogram representing the ***distribution of salary*** for *both* people with a bachelor's degree and people with a master's degree.\n",
    "\n",
    "*Hint*: Take a look at the optional `group` argument in the documentation.\n",
    "\n",
    "*Note*: Set the optional `bins` argument of the `hist` method to `my_bins`."
   ]
  },
  {
   "cell_type": "code",
   "execution_count": null,
   "id": "a9e16571",
   "metadata": {
    "outputId": "f011bdbb-4189-4840-9812-84b5b03cf595",
    "tags": []
   },
   "outputs": [],
   "source": [
    "# This plot shows the distribution of salary for people with a bachelor's degree AND master's degree\n",
    "my_bins = np.arange(0, 300000, 20000)\n",
    "bachelor_master.hist(\"Salary\", density = False, bins = my_bins, group=\"Education Level\")"
   ]
  },
  {
   "cell_type": "markdown",
   "id": "bcfbaf6b",
   "metadata": {},
   "source": [
    "<!-- END QUESTION -->\n",
    "\n",
    "It appears that salary for those with a **master's degree** is higher, on average, than those with a bachelor's degree. The plot above shows the master's degree salary to be shifted to the right of the bachelor's degree salary. We can also take a look at a subset of the `education_averages` table from earlier to find the same information numerically:"
   ]
  },
  {
   "cell_type": "code",
   "execution_count": null,
   "id": "8fd2f294",
   "metadata": {
    "outputId": "acbd797d-2fbd-4c8e-d3a8-4ae3573a1cad"
   },
   "outputs": [],
   "source": [
    "# Makes a table with education level and salary average from our `education_averages` table\n",
    "salary_average = education_averages.select(\"Education Level\", \"Salary mean\")\n",
    "salary_average"
   ]
  },
  {
   "cell_type": "markdown",
   "id": "41bf4fb1",
   "metadata": {},
   "source": [
    "Above, we created a basic `salary_average` table that gives us the average salary of each education level. Using this table, we can access the rows that correspond to the bachelor's degree salary average and the master's degree salary average."
   ]
  },
  {
   "cell_type": "code",
   "execution_count": null,
   "id": "8858bfa8",
   "metadata": {},
   "outputs": [],
   "source": [
    "bachelors_avg = salary_average.where(\"Education Level\", \"Bachelor's Degree\")\n",
    "masters_avg = salary_average.where(\"Education Level\", \"Master's Degree\")"
   ]
  },
  {
   "cell_type": "code",
   "execution_count": null,
   "id": "60c674da",
   "metadata": {
    "outputId": "351b44d9-31d4-48e9-cf1a-2d2a50783828"
   },
   "outputs": [],
   "source": [
    "print(f\"Bachelor's Degree salary average:\\t{bachelors_avg.column('Salary mean')[0]}\")\n",
    "print(f\"Master's Degree salary average:\\t{masters_avg.column('Salary mean')[0]}\")"
   ]
  },
  {
   "cell_type": "markdown",
   "id": "10022a59",
   "metadata": {},
   "source": [
    "As we can see, the conclusion we reached from the bar chart appeared to line up with the information from the table operations. This is a benefit of visualization: information can be learned about the dataset with just visual observation. It is always beneficial to back your claims about data with concrete facts about the dataset, but **visualizations can help abstract away some of the confusion of looking at raw data** so that non-data-scientists can better understand what is going on."
   ]
  },
  {
   "cell_type": "markdown",
   "id": "09d7e57b",
   "metadata": {},
   "source": [
    "### Bachelor's Degree vs. PhD\n",
    "\n",
    "Next, we'll explore a similar breakdown: comparing the salaries of bachelor's degree holders to those of PhD holders."
   ]
  },
  {
   "cell_type": "code",
   "execution_count": null,
   "id": "9d8fc1e5",
   "metadata": {
    "outputId": "2ed4fbb5-7aae-4701-c8ec-8e9ab2cd46ab"
   },
   "outputs": [],
   "source": [
    "# Just run this cell\n",
    "bachelors = clean_salary.select(\"Education Level\", \"Salary\").where(\"Education Level\", \"Bachelor's Degree\")\n",
    "phd = clean_salary.select(\"Education Level\", \"Salary\").where(\"Education Level\", \"PhD\")\n",
    "print(f\"People with a Bachelor's education level in cleaned dataset: {bachelors.num_rows}\")\n",
    "print(f\"People with a PhD education level in cleaned dataset: {phd.num_rows}\")"
   ]
  },
  {
   "cell_type": "markdown",
   "id": "f3a6efaa",
   "metadata": {},
   "source": [
    "From the cell above, you should see a big discrepancy in the number of individuals in the dataset with a bachelor's degree vs. a PhD. We want to keep this in mind, as this large difference in sample sizes could potentially affect our analyses. To get an idea of what the range of salaries looks like for these two education levels, we plot them individually below:"
   ]
  },
  {
   "cell_type": "code",
   "execution_count": null,
   "id": "88e588a2",
   "metadata": {
    "outputId": "66ab1724-6e60-4acb-e293-78028ee10afd"
   },
   "outputs": [],
   "source": [
    "# This plot shows the distribution of salary for those with a bachelor's degree\n",
    "my_bins = np.arange(0, 180000, 10000)\n",
    "bachelors.hist(\"Salary\", bins = my_bins)"
   ]
  },
  {
   "cell_type": "code",
   "execution_count": null,
   "id": "2f62ff02",
   "metadata": {
    "outputId": "fdeeb160-12d0-43d6-fb9a-33be257190ac"
   },
   "outputs": [],
   "source": [
    "# This plot shows the distribution of salary for those with a PhD\n",
    "my_bins = np.arange(0, 300000, 10000)\n",
    "phd.hist(\"Salary\",  bins = my_bins)"
   ]
  },
  {
   "cell_type": "markdown",
   "id": "305ae8ac",
   "metadata": {},
   "source": [
    "On these plots individually, we see a very different distribution for the salaries. Below, we'll visualize them together as we did with the bachelor's vs. master's comparison:"
   ]
  },
  {
   "cell_type": "code",
   "execution_count": null,
   "id": "f6f0ea5e",
   "metadata": {
    "outputId": "1a7de915-1a28-4772-8ade-a3674782cc50"
   },
   "outputs": [],
   "source": [
    "# Just run this cell -- this creates a table of the salaries of people with a PhD or Bachelor's Degree\n",
    "bachelor_phd = clean_salary.select(\"Education Level\", \"Salary\").where(\"Education Level\", are.contained_in([\"Bachelor's Degree\", \"PhD\"]))\n",
    "bachelor_phd.show(5)"
   ]
  },
  {
   "cell_type": "markdown",
   "id": "da4cd976",
   "metadata": {},
   "source": [
    "<!-- BEGIN QUESTION -->\n",
    "\n",
    "### Question 1.6\n",
    "Using the code in **Question 1.5** as reference, produce a histogram showing the distribution of salary for people with a *PhD* and people with a *bachelor's degree*. What do you notice about this plot?"
   ]
  },
  {
   "cell_type": "code",
   "execution_count": null,
   "id": "9b0d35a3",
   "metadata": {
    "outputId": "1cda991c-260c-47a8-84ef-e2200c19831b",
    "tags": []
   },
   "outputs": [],
   "source": [
    "# This plot shows the distribution of salary for people with a bachelor's degree AND master's degree\n",
    "my_bins = np.arange(0, 300000, 20000)\n",
    "bachelor_phd.hist(\"Salary\", density = True, bins = my_bins, group=\"Education Level\")"
   ]
  },
  {
   "cell_type": "markdown",
   "id": "253a2b3b",
   "metadata": {},
   "source": [
    "<!-- END QUESTION -->\n",
    "\n",
    "<div class=\"alert alert-warning\">\n",
    "Here is where we could have arrived at some unreliable conclusions: for all the histograms in this lab so far, we've been taking a look at the density plots of these histograms, in which the y-axis is displayed in percent per unit rather than simply count. Let's take a look at what the plot could have looked like, if we were choosing to make count plots for our histograms instead:\n",
    "</div>"
   ]
  },
  {
   "cell_type": "code",
   "execution_count": null,
   "id": "9dd492fa",
   "metadata": {},
   "outputs": [],
   "source": [
    "my_bins = np.arange(0, 180000, 10000)\n",
    "bachelor_phd.hist(\"Salary\", density = False, group = \"Education Level\", bins = my_bins)"
   ]
  },
  {
   "cell_type": "markdown",
   "id": "b10057aa",
   "metadata": {},
   "source": [
    "<div class=\"alert alert-warning\">\n",
    "When we make use of the <code>density = False</code> argument, we see that the y-axis plots the counts of individuals instead. As we discovered earlier, the sample sizes of the bachelor's holders vs. PhD holders in this dataset are quite different, and so it's difficult to draw any reliable conclusions from the plot above. When using histograms to visualize data in the future, pay attention to whether a density distribution or a count distribution makes the most sense and is the most reliable for drawing conclusions!\n",
    "</div>"
   ]
  },
  {
   "cell_type": "markdown",
   "id": "1b5b13bb",
   "metadata": {},
   "source": [
    "---\n",
    "## Done! 😇"
   ]
  },
  {
   "cell_type": "markdown",
   "id": "527809de",
   "metadata": {},
   "source": [
    "---"
   ]
  },
  {
   "cell_type": "markdown",
   "id": "ff149986",
   "metadata": {
    "deletable": false,
    "editable": false
   },
   "source": [
    "## Submission\n",
    "\n",
    "Make sure you have run all cells in your notebook in order before running the cell below, so that all images/graphs appear in the output. The cell below will generate a zip file for you to submit. **Please save before exporting!**"
   ]
  },
  {
   "cell_type": "code",
   "execution_count": null,
   "id": "1699a3c1",
   "metadata": {
    "deletable": false,
    "editable": false
   },
   "outputs": [],
   "source": [
    "# Save your notebook first, then run this cell to export your submission.\n",
    "grader.export(pdf=False, run_tests=True)"
   ]
  },
  {
   "cell_type": "markdown",
   "id": "753c1f40",
   "metadata": {},
   "source": [
    " "
   ]
  }
 ],
 "metadata": {
  "kernelspec": {
   "display_name": "Python 3 (ipykernel)",
   "language": "python",
   "name": "python3"
  },
  "language_info": {
   "codemirror_mode": {
    "name": "ipython",
    "version": 3
   },
   "file_extension": ".py",
   "mimetype": "text/x-python",
   "name": "python",
   "nbconvert_exporter": "python",
   "pygments_lexer": "ipython3",
   "version": "3.11.10"
  },
  "otter": {
   "OK_FORMAT": true,
   "tests": {}
  }
 },
 "nbformat": 4,
 "nbformat_minor": 5
}
