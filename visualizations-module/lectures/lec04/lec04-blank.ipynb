{
 "cells": [
  {
   "cell_type": "code",
   "execution_count": null,
   "id": "416adb6c",
   "metadata": {},
   "outputs": [],
   "source": [
    "# Run this cell.\n",
    "from datascience import *\n",
    "import matplotlib.pyplot as plt\n",
    "import numpy as np\n",
    "import matplotlib.pyplot as plt\n",
    "%matplotlib inline\n",
    "plt.style.use(\"ggplot\")\n",
    "import warnings\n",
    "warnings.filterwarnings('ignore')"
   ]
  },
  {
   "cell_type": "markdown",
   "id": "f0a30eb3",
   "metadata": {},
   "source": [
    "<img src=\"https://github.com/data-6-berkeley/materials-fa24/blob/main/hw/hw03/data6.png?raw=true\" style=\"width: 15%; float: right; padding: 1%; margin-right: 2%;\"/>\n",
    "\n",
    "# Bickel Case Study\n",
    "\n",
    "**Goals:**\n",
    "- Load and inspect real admissions data  \n",
    "- Compare overall and department-level admission rates by gender  \n",
    "- Visualize Simpson’s Paradox  \n",
    "\n",
    "**Dataset Source:** The [dataset](https://discovery.cs.illinois.edu/dataset/berkeley/) used in this notebook is a cleaned version of the original UC Berkeley 1973 graduate admissions data, processed by the University of Illinois at Urbana-Champaign. "
   ]
  },
  {
   "cell_type": "markdown",
   "id": "276f9a56",
   "metadata": {},
   "source": [
    "<hr style=\"border: 5px solid #003262;\" />\n",
    "<hr style=\"border: 1px solid #fdb515;\" />\n",
    "\n",
    "## 1973 UC Berkeley Graduate Admissions"
   ]
  },
  {
   "cell_type": "code",
   "execution_count": null,
   "id": "323536a7",
   "metadata": {},
   "outputs": [],
   "source": [
    "# Load data from CSV\n",
    "cal_data = Table.read_table('UCBerkeley1973_Admission.csv')\n",
    "cal_data.show(5)"
   ]
  },
  {
   "cell_type": "code",
   "execution_count": null,
   "id": "f5bf71cb",
   "metadata": {},
   "outputs": [],
   "source": [
    "total_f = sum(...)\n",
    "total_m = sum(...)\n",
    "accepted_f = cal_data.where(\"Admission\", \"Accepted\").where(..., ...).num_rows\n",
    "accepted_m =  cal_data.where(\"Admission\", \"Accepted\").where(..., ...).num_rows\n",
    "acceptance_rate_f = accepted_f / total_f \n",
    "acceptance_rate_m = accepted_m / total_m\n",
    "print(\"1973's Berkeley admission rate seems to be: female:\", acceptance_rate_f * 100, \"and male:\", acceptance_rate_m * 100)"
   ]
  },
  {
   "cell_type": "markdown",
   "id": "2881d761",
   "metadata": {},
   "source": [
    "<hr style=\"border: 1px solid #fdb515;\" />\n",
    "\n",
    "## Data Talk"
   ]
  },
  {
   "cell_type": "markdown",
   "id": "92378083",
   "metadata": {},
   "source": [
    "<div class=\"alert alert-info\">\n",
    "\n",
    "1. **What do you notice?**\n",
    "\n",
    "2. **What do you wonder?**\n",
    "\n",
    "3. **What story does this tell, especially about the community this data may impact?**\n",
    "\n",
    "</div>"
   ]
  },
  {
   "cell_type": "markdown",
   "id": "3101c50a",
   "metadata": {},
   "source": [
    "| Group   | Applicants | Admitted | Men Applicants | Men Admitted                                | Women Applicants | Women Admitted |\n",
    "|---------|------------|----------|----------------|----------------------------------------------|------------------|----------------|\n",
    "| **Total** | 12,763 | 41%   | 8,442       | <span style=\"color:green\"><b>44%</b></span> | 4,321         | **35%**          |"
   ]
  },
  {
   "cell_type": "markdown",
   "id": "e1999d68",
   "metadata": {},
   "source": [
    "| Dept | All Applicants | All Admitted | Men Applicants | Men Admitted | Women Applicants | Women Admitted |\n",
    "|------|----------------|--------------|----------------|--------------|------------------|----------------|\n",
    "| A    | 933            | 64%          | <span style=\"color:blue\"><b>**825**</b></span> | 62%          | 108              | <span style=\"color:green\"><b>82%</b></span> |\n",
    "| B    | 585            | 63%          | <span style=\"color:blue\"><b>**560**</b></span> | 63%          | 25               | <span style=\"color:green\"><b>68%</b></span> |\n",
    "| C    | 918            | 35%          | 325            | <span style=\"color:green\"><b>37%</b></span> | <span style=\"color:blue\"><b>**593**</b></span> | 34% |\n",
    "| D    | 792            | 34%          | <span style=\"color:blue\"><b>417</b></span> | 33%          | 375              | 35% |\n",
    "| E    | 584            | 25%          | 191            | <span style=\"color:green\"><b>28%</b></span> | <span style=\"color:blue\"><b>**393**</b></span> | 24% |\n",
    "| F    | 714            | 6%           | <span style=\"color:blue\"><b>373</b></span> | 6%           | 341              | <span style=\"color:green\"><b>7%</b></span> |\n",
    "| **Total** | **4,526**      | **39%**       | **2,691**      | **45%**       | **1,835**        | **30%**        |"
   ]
  },
  {
   "cell_type": "markdown",
   "id": "0822e627",
   "metadata": {},
   "source": [
    "<hr style=\"border: 1px solid #fdb515;\" />\n",
    "\n",
    "## Visualization Talk\n",
    "\n",
    "<div class=\"alert alert-info\">\n",
    "\n",
    "1. **What do you notice?**\n",
    "\n",
    "2. **What do you wonder?**\n",
    "\n",
    "3. **What columns plotted what?** (Focus on axes)\n",
    "\n",
    "</div>"
   ]
  },
  {
   "cell_type": "code",
   "execution_count": null,
   "id": "990e412b",
   "metadata": {},
   "outputs": [],
   "source": [
    "admissions = cal_data.pivot('Admission', 'Gender').with_column(\"Acceptance Rate\", make_array(acceptance_rate_f, acceptance_rate_m))\n",
    "admissions.barh(\"Gender\", \"Acceptance Rate\")"
   ]
  },
  {
   "cell_type": "code",
   "execution_count": null,
   "id": "d2c8a9da",
   "metadata": {},
   "outputs": [],
   "source": [
    "admission_major = cal_data.pivot('Gender', 'Major', collect = lambda x: sum(x == 'Accepted') / len(x), values = 'Admission')\n",
    "admission_major = admission_major.relabeled(['F', 'M'], ['F Acceptance Rate', 'M Acceptance Rate'])\n",
    "admission_major.bar('Major', overlay = True)"
   ]
  },
  {
   "cell_type": "markdown",
   "id": "dec37124",
   "metadata": {},
   "source": [
    "<hr style=\"border: 1px solid #fdb515;\" />\n",
    "\n",
    "## Simpson’s Paradox Coding\n",
    "\n",
    "Instead of visualizing admission rates, let’s focus on the total number of admitted applicants. Modify the code to produce a bar chart as shown below:\n",
    "\n",
    "<img src=\"https://github.com/dubois-ctds/data6-nwdse-2025/blob/main/visualizations-workshop/barchart.png?raw=true\" alt=\"Bar Chart\"/>"
   ]
  },
  {
   "cell_type": "code",
   "execution_count": null,
   "id": "16dc70fa",
   "metadata": {},
   "outputs": [],
   "source": [
    "num_applicants = cal_data.group([_____])._____('Gender', 'Major', collect = _____, values = 'count')\n",
    "num_applicants = num_applicants.relabeled(['F', 'M'], ['F Application Count', 'M Application Count'])\n",
    "num_applicants._____(_____) # barchart"
   ]
  }
 ],
 "metadata": {
  "kernelspec": {
   "display_name": "Python 3",
   "language": "python",
   "name": "python3"
  },
  "language_info": {
   "codemirror_mode": {
    "name": "ipython",
    "version": 3
   },
   "file_extension": ".py",
   "mimetype": "text/x-python",
   "name": "python",
   "nbconvert_exporter": "python",
   "pygments_lexer": "ipython3",
   "version": "3.12.4"
  }
 },
 "nbformat": 4,
 "nbformat_minor": 5
}
