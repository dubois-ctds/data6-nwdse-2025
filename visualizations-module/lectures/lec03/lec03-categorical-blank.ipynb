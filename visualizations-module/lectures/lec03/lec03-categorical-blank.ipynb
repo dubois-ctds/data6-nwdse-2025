{
 "cells": [
  {
   "cell_type": "markdown",
   "metadata": {},
   "source": [
    "# Lecture 03 – Visualizing Categorical Variables\n",
    "\n",
    "## Data 6, Visualizations Module"
   ]
  },
  {
   "cell_type": "code",
   "execution_count": null,
   "metadata": {},
   "outputs": [],
   "source": [
    "from datascience import * # datascience has plotting features built in\n",
    "import numpy as np\n",
    "\n",
    "import matplotlib.pyplot as plt\n",
    "%matplotlib inline\n",
    "plt.style.use(\"ggplot\")\n",
    "\n",
    "import warnings\n",
    "warnings.filterwarnings('ignore')\n",
    "#Table.interactive_plots() "
   ]
  },
  {
   "cell_type": "markdown",
   "metadata": {},
   "source": [
    "## Bar Charts"
   ]
  },
  {
   "cell_type": "markdown",
   "metadata": {},
   "source": [
    "Bar charts are helpful for visualizing the relationship between a categorical variable and a numerical variable, or for visualizing the distribution of a categorical variable. For example, we can visualize the number of cookies we have of each type (at our imaginary cookie store)."
   ]
  },
  {
   "cell_type": "code",
   "execution_count": null,
   "metadata": {},
   "outputs": [],
   "source": [
    "cookies = Table()\n",
    "cookies = cookies.with_columns(\n",
    "    \"Cookie\", make_array(\"chocolate chip\", \"red velvet\",\"oatmeal raisin\",  \"sugar cookies\", \"peanut butter\"),\n",
    "    \"Count\", make_array(15, 15, 10, 10, 5)\n",
    ")\n",
    "cookies"
   ]
  },
  {
   "cell_type": "code",
   "execution_count": null,
   "metadata": {
    "scrolled": true
   },
   "outputs": [],
   "source": [
    "cookies.barh('Cookie')"
   ]
  },
  {
   "cell_type": "markdown",
   "metadata": {},
   "source": [
    "### Example 1: Top 10 Songs on Spotify\n",
    "\n",
    "The streaming service Spotify has a lot of [data](https://spotifycharts.com/regional) we can work with. \n",
    "\n",
    "While the spotify song charts are nice sometimes we like to gather additional data to spice up our analysis such as in this case the year a song was released or the key of the song. Luckily there is publicly available data on [kaggle](https://www.kaggle.com/datasets/nelgiriyewithana/top-spotify-songs-2023?resource=download) that provides just this. However, since we're working with Kaggle data it's always important to consider the limitations (i.e. the dataset contains 952 of the most famous songs from 2023, how did the author of the dataset define famous?\n",
    ")"
   ]
  },
  {
   "cell_type": "code",
   "execution_count": null,
   "metadata": {},
   "outputs": [],
   "source": [
    "top_10_simple = Table.read_table('data/spotify-2023-top-10.csv').select(\"track_name\", \"streams\")\n",
    "top_10_simple"
   ]
  },
  {
   "cell_type": "code",
   "execution_count": null,
   "metadata": {},
   "outputs": [],
   "source": [
    "top_10_simple.barh(\"track_name\") # Create a bar chart of streams for each of the songs in `top_10_simple`"
   ]
  },
  {
   "cell_type": "markdown",
   "metadata": {},
   "source": [
    "In the previous example, we gave you a simplified table with only two columns. What happens if we have more than two columns in a table?"
   ]
  },
  {
   "cell_type": "code",
   "execution_count": null,
   "metadata": {},
   "outputs": [],
   "source": [
    "top_10 = Table.read_table('data/spotify-2023-top-10.csv')\n",
    "top_10"
   ]
  },
  {
   "cell_type": "markdown",
   "metadata": {},
   "source": [
    "If we try to use the same `.barh()` format from above, our cell will cause an error."
   ]
  },
  {
   "cell_type": "code",
   "execution_count": null,
   "metadata": {},
   "outputs": [],
   "source": [
    "top_10.barh('track_name', 'artist(s)_name') # This code causes an error"
   ]
  },
  {
   "cell_type": "markdown",
   "metadata": {},
   "source": [
    "Instead, we need to specify a second argument, which tells Python which column to use as the **numerical variable** on the y axis."
   ]
  },
  {
   "cell_type": "code",
   "execution_count": null,
   "metadata": {},
   "outputs": [],
   "source": [
    "top_10.barh(\"track_name\", \"streams\") # Create a bar chart of streams for each of the songs in `top_10`"
   ]
  },
  {
   "cell_type": "markdown",
   "metadata": {},
   "source": [
    "## `sort`"
   ]
  },
  {
   "cell_type": "markdown",
   "metadata": {},
   "source": [
    "Sometimes, our bar charts are still hard to understand intuitively because they are in an order that doesn't make sense (or doesn't provide us with much information):"
   ]
  },
  {
   "cell_type": "code",
   "execution_count": null,
   "metadata": {},
   "outputs": [],
   "source": [
    "release_year = top_10.group(\"released_year\").sample(5, with_replacement=False)\n",
    "release_year.barh('released_year', 'count')"
   ]
  },
  {
   "cell_type": "markdown",
   "metadata": {},
   "source": [
    "When there is some inherent order to the categories (e.g. the top songs sorted by number of streams or year of release), we can sort the rows first before calling `.barh()` to ensure that the bars in the bar chart are sorted. "
   ]
  },
  {
   "cell_type": "markdown",
   "metadata": {},
   "source": [
    "To sort rows in a table, we will use `tbl.sort(column)`. This function takes the argument `column`, which is the name of the column in the table to sort by, and an optional argument `descending` which can either be `True` or `False`, depending on whether we want to sort the table in ascending or descending order."
   ]
  },
  {
   "cell_type": "code",
   "execution_count": null,
   "metadata": {},
   "outputs": [],
   "source": [
    "release_year.sort('count', descending=True).barh('released_year', 'count')"
   ]
  },
  {
   "cell_type": "markdown",
   "metadata": {},
   "source": [
    "The code above is the same as the code below! Remember that you can break larger problems up into smaller chunks this way."
   ]
  },
  {
   "cell_type": "code",
   "execution_count": null,
   "metadata": {
    "scrolled": true
   },
   "outputs": [],
   "source": [
    "top_10_sorted = release_year.sort('count', descending=True)\n",
    "top_10_sorted.barh('released_year', 'count')"
   ]
  },
  {
   "cell_type": "markdown",
   "metadata": {},
   "source": [
    "## `take`"
   ]
  },
  {
   "cell_type": "markdown",
   "metadata": {},
   "source": [
    "Now, we are going to load in the full table of the Spotify Top 200."
   ]
  },
  {
   "cell_type": "code",
   "execution_count": null,
   "metadata": {
    "scrolled": true
   },
   "outputs": [],
   "source": [
    "streams = Table.read_table('data/regional-global-daily-latest.csv')\n",
    "streams"
   ]
  },
  {
   "cell_type": "markdown",
   "metadata": {},
   "source": [
    "If we try to visualize all 200 songs in one chart, that chart will end up being really long and unwieldy. "
   ]
  },
  {
   "cell_type": "code",
   "execution_count": null,
   "metadata": {},
   "outputs": [],
   "source": [
    "streams.barh('track_name', 'streams')"
   ]
  },
  {
   "cell_type": "markdown",
   "metadata": {},
   "source": [
    "So instead, we will manually _take_ the first 10 rows of the table in order to make our visualization. We can accomplish this using the `tbl.take(index)` function, which will take certain rows from the original table based on their index. For right now, we will be using `.take` in this format: `tbl.take(np.arange(10))`, where the number indicates how many rows to take, starting from the top of the table."
   ]
  },
  {
   "cell_type": "code",
   "execution_count": null,
   "metadata": {
    "scrolled": true
   },
   "outputs": [],
   "source": [
    "top_10 = streams.take(np.arange(10))\n",
    "top_10"
   ]
  },
  {
   "cell_type": "markdown",
   "metadata": {},
   "source": [
    "Now, when we generate our bar chart, we are able to visualize all ten songs very easily."
   ]
  },
  {
   "cell_type": "code",
   "execution_count": null,
   "metadata": {},
   "outputs": [],
   "source": [
    "top_10.barh(\"track_name\", \"streams\") # Generate a bar chart of streams by song"
   ]
  },
  {
   "cell_type": "markdown",
   "metadata": {},
   "source": [
    "Given `streams_top_15`, a table of the top 15 most streamed songs, generate a bar chart showing how many streams each artist has."
   ]
  },
  {
   "cell_type": "code",
   "execution_count": null,
   "metadata": {},
   "outputs": [],
   "source": [
    "streams_top_15 = streams.sort('streams', descending=True).take(np.arange(15)) \\\n",
    "                        .select('artist_names', 'track_name', 'streams')\n",
    "streams_top_15"
   ]
  },
  {
   "cell_type": "code",
   "execution_count": null,
   "metadata": {},
   "outputs": [],
   "source": [
    "streams_top_15.barh(...) # Create a bar chart showing the artists with the number of streams they have"
   ]
  },
  {
   "cell_type": "markdown",
   "metadata": {},
   "source": [
    "Notice how the artist The Weeknd has multiple songs in the top 15, but their total streams are not counted together? We will learn how to consolidate all of the songs by a single artist soon..."
   ]
  },
  {
   "cell_type": "markdown",
   "metadata": {},
   "source": [
    "## Grouping Bars"
   ]
  },
  {
   "cell_type": "markdown",
   "metadata": {},
   "source": [
    "When two numerical variables have the same scale or magnitude, it is sometimes useful to visualize these variables together. For example, we have a column in `top_10` called `in_spotify_charts`, which is the current spot in the spotify charts of a song. We also have a column `in_apple_charts`, which is the current rank on the apple charts of a song."
   ]
  },
  {
   "cell_type": "code",
   "execution_count": null,
   "metadata": {},
   "outputs": [],
   "source": [
    "top_10.select('in_spotify_charts', 'track_name', 'in_apple_charts')"
   ]
  },
  {
   "cell_type": "code",
   "execution_count": null,
   "metadata": {},
   "outputs": [],
   "source": [
    "top_10.barh('track_name', 'in_spotify_charts')"
   ]
  },
  {
   "cell_type": "code",
   "execution_count": null,
   "metadata": {},
   "outputs": [],
   "source": [
    "top_10.barh('track_name', 'in_apple_charts')"
   ]
  },
  {
   "cell_type": "markdown",
   "metadata": {},
   "source": [
    "Since both of these variables have the same scale, we can easily visualize them togther in one bar chart. To do this, we need to make sure our table only has the three columns `in_spotify_charts`, `rank` and `in_apple_charts`. Then we can call `.barh()` to make an overlaid/grouped bar chart."
   ]
  },
  {
   "cell_type": "code",
   "execution_count": null,
   "metadata": {
    "scrolled": true
   },
   "outputs": [],
   "source": [
    "... # Create a grouped bar chart showing `in_spotify_charts` and `in_apple_charts` for each song"
   ]
  },
  {
   "cell_type": "markdown",
   "metadata": {},
   "source": [
    "If we prefer to visualize these variables separately, we can eliminate the overlay by setting the optional argument `overlay` to `False`."
   ]
  },
  {
   "cell_type": "code",
   "execution_count": null,
   "metadata": {},
   "outputs": [],
   "source": [
    "... # Create two separate bar charts showing `in_spotify_charts` and `in_apple_charts` for each song\n",
    "# (Hint: set `overlay=False`)"
   ]
  }
 ],
 "metadata": {
  "kernelspec": {
   "display_name": "Python 3 (ipykernel)",
   "language": "python",
   "name": "python3"
  },
  "language_info": {
   "codemirror_mode": {
    "name": "ipython",
    "version": 3
   },
   "file_extension": ".py",
   "mimetype": "text/x-python",
   "name": "python",
   "nbconvert_exporter": "python",
   "pygments_lexer": "ipython3",
   "version": "3.11.10"
  }
 },
 "nbformat": 4,
 "nbformat_minor": 4
}
