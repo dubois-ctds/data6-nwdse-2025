{
 "cells": [
  {
   "cell_type": "code",
   "execution_count": null,
   "metadata": {
    "deletable": false,
    "editable": false
   },
   "outputs": [],
   "source": [
    "# Initialize Otter\n",
    "import otter\n",
    "grader = otter.Notebook(\"hw03.ipynb\")"
   ]
  },
  {
   "cell_type": "markdown",
   "metadata": {},
   "source": [
    "<img src=\"https://github.com/data-6-berkeley/materials-fa24/blob/main/hw/hw03/data6.png?raw=true\" width=\"150px\" align=\"right\">\n",
    "\n",
    "# Homework 3 – Advanced Table Methods\n",
    "\n",
    "## Data 6 Visualizations Module\n",
    "\n",
    "In this homework assignment, you will use exercise your newfound table manipulation skills.\n",
    "\n",
    "This homework is due on **(TWO WEEKS AFTER RELEASE)**. You must submit the assignment to Gradescope. Submission instructions can be found at the bottom of this notebook. See the [syllabus](http://data6.org/su24/syllabus/#late-policy-and-extensions) for our late submission policy.\n",
    "\n",
    "**Note:** Unlike the previous two homework assignments, most questions in this assignment will depend on all previous work. As such, it's in your best interest to work through the questions sequentially."
   ]
  },
  {
   "cell_type": "code",
   "execution_count": null,
   "metadata": {},
   "outputs": [],
   "source": [
    "# Run this cell.\n",
    "from datascience import *\n",
    "import numpy as np\n",
    "import matplotlib.pyplot as plt\n",
    "plt.style.use(\"ggplot\")\n",
    "%matplotlib inline\n",
    "\n",
    "import warnings\n",
    "warnings.simplefilter('ignore')"
   ]
  },
  {
   "cell_type": "markdown",
   "metadata": {},
   "source": [
    "<hr style=\"border: 5px solid #003262;\" />\n",
    "<hr style=\"border: 1px solid #fdb515;\" />\n",
    "\n",
    "# Part 1: UC Berkeley Admissions\n",
    "\n",
    "<br></br>\n",
    "<hr style=\"border: 1px solid #fdb515;\" />\n",
    "\n",
    "## Understanding the data\n",
    "\n",
    "In this part of the homework, we will ask and answer questions about UC Berkeley's undergraduate admissions numbers for the class that entered in Fall 2020. The data we'll work with in this question comes from [this public webpage](https://www.universityofcalifornia.edu/infocenter/admissions-source-school).\n",
    "\n",
    "Run the cell below to load in our data as a table."
   ]
  },
  {
   "cell_type": "code",
   "execution_count": null,
   "metadata": {},
   "outputs": [],
   "source": [
    "schools = Table.read_table('enrollment.csv')\n",
    "schools"
   ]
  },
  {
   "cell_type": "markdown",
   "metadata": {},
   "source": [
    "Each row corresponds to a high school. For each high school, we have the following information:\n",
    "- `'Name'`: The name of the high school. Note, this is not unique – for instance, the top three rows of our table correspond to three different high schools all with the name `'ABRAHAM LINCOLN HIGH SCHOOL'`; one is in Los Angeles, one is in San Francisco, and one is in San Jose.\n",
    "- `'City'`: The city in which the high school is. Note, only schools within the US have a valid `'City'` listed; international schools have a city of `'nan'`. (`'nan'` means \"missing value\".) \n",
    "- `'Region'`: The county in which the high school is if the high school is in California, or the state in which the high school is if the high school is elsewhere in the US (see `'ADLAI E STEVENSON HIGH SCHOOL'` above). Again, if the high school is not within the US, `'Region'` is `'nan'`.\n",
    "- `'Applied'`: The number of students who applied to UC Berkeley from that high school for admission in Fall 2020.\n",
    "- `'Admitted'`: The number of students who were admitted to UC Berkeley from that high school for admission in Fall 2020.\n",
    "- `'Enrolled'`: The number of students who actually chose to attend UC Berkeley from that high school starting in Fall 2020."
   ]
  },
  {
   "cell_type": "markdown",
   "metadata": {},
   "source": [
    "**Note:** It's a good idea to have the [Python Reference Sheet](https://data6.org/su24/reference/) open while working on the assignment in the event you have any questions.\n",
    "\n",
    "You can also easily see the documentation for a function by either:\n",
    "- typing the name of the function on a new line, followed by a `?`, and running the cell\n",
    "- typing the name of the function anywhere in a code cell and hitting `Shift + Tab` on your keyboard\n",
    "\n",
    "Try it out below! Just add a `?` to the end of the line."
   ]
  },
  {
   "cell_type": "code",
   "execution_count": null,
   "metadata": {},
   "outputs": [],
   "source": [
    "Table.where"
   ]
  },
  {
   "cell_type": "markdown",
   "metadata": {},
   "source": [
    "<br></br>\n",
    "<hr style=\"border: 1px solid #fdb515;\" />\n",
    "\n",
    "# Question 1 – Key Numbers\n",
    "\n",
    "<br></br>\n",
    "\n",
    "---\n",
    "## Question 1a – How many students were admitted?\n",
    "\n",
    "Suppose we're interested in determining the number of students who *applied* to UC Berkeley. We can calculate that number by finding the sum of the `'Applied'` column in our dataset like so:"
   ]
  },
  {
   "cell_type": "code",
   "execution_count": null,
   "metadata": {},
   "outputs": [],
   "source": [
    "# This is just an example\n",
    "sum(schools.column('Applied'))"
   ]
  },
  {
   "cell_type": "markdown",
   "metadata": {},
   "source": [
    "**Task**: Below, assign the variable `num_admitted` to an integer corresponding to the number of students who were *admitted* to UC Berkeley in our dataset.\n",
    "\n",
    "_Hint_: Do something similar to the example above.\n"
   ]
  },
  {
   "cell_type": "code",
   "execution_count": null,
   "metadata": {
    "tags": []
   },
   "outputs": [],
   "source": [
    "num_admitted = ...\n",
    "num_admitted"
   ]
  },
  {
   "cell_type": "code",
   "execution_count": null,
   "metadata": {
    "deletable": false,
    "editable": false
   },
   "outputs": [],
   "source": [
    "grader.check(\"q1a\")"
   ]
  },
  {
   "cell_type": "markdown",
   "metadata": {},
   "source": [
    "---\n",
    "## Question 1b – What was the overall acceptance rate?\n",
    "\n",
    "Below, assign the variable `overall_acceptance_rate` to a float corresponding to the proportion of students who applied to UC Berkeley that were admitted.\n",
    "\n",
    "_Hint_: Use `num_admitted` along with the example that came right before it.\n"
   ]
  },
  {
   "cell_type": "code",
   "execution_count": null,
   "metadata": {
    "tags": []
   },
   "outputs": [],
   "source": [
    "overall_acceptance_rate = ...\n",
    "overall_acceptance_rate"
   ]
  },
  {
   "cell_type": "code",
   "execution_count": null,
   "metadata": {
    "deletable": false,
    "editable": false
   },
   "outputs": [],
   "source": [
    "grader.check(\"q1b\")"
   ]
  },
  {
   "cell_type": "markdown",
   "metadata": {},
   "source": [
    "<!-- BEGIN QUESTION -->\n",
    "\n",
    "---\n",
    "## Question 1c – Wait... what?\n",
    "\n",
    "In **Question 1a**, you computed the number of students that UC Berkeley admitted for enrollment in Fall 2020. Scroll back up to Question 1a to look at that number, and then come back to this question.\n",
    "\n",
    "Strangely, this [news.berkeley.edu](https://news.berkeley.edu/2020/07/16/uc-berkeleys-push-for-more-diversity-shows-in-its-newly-admitted-class/) article from July 2020 states\n",
    "\n",
    "> Overall, UC Berkeley admitted 14,668 students as freshmen in 2019 and 15,435 for fall 2020. The admit rate remains the same as last year, at 15%.\n",
    "\n",
    "The number that you computed in **Question 1a** is much smaller than the 15,435 figure that this article provides. But both are official University of California sources. What's going on here?\n",
    "\n",
    "In the cell below, write a short answer to the question \"**Why is the number of admitted students in our dataset less than the true number of admitted students?**\" To find your answer, go to the [UC site where we got this data from](https://www.universityofcalifornia.edu/infocenter/admissions-source-school) and look for the fine print under the table. You'll find that only schools with a certain number of applicants and admitted students are represented; **your answer must mention those specific thresholds as well as why you think they may have excluded schools who don't meet the thresholds from the dataset.**\n"
   ]
  },
  {
   "cell_type": "markdown",
   "metadata": {},
   "source": [
    "_Type your answer here, replacing this text._"
   ]
  },
  {
   "cell_type": "markdown",
   "metadata": {},
   "source": [
    "<!-- END QUESTION -->\n",
    "\n",
    "<br></br>\n",
    "<hr style=\"border: 1px solid #fdb515;\" />\n",
    "\n",
    "# Question 2 – Which Schools?\n",
    "\n",
    "Now it's time to answer questions of the form \"Which schools \\_\\_\\_\\_\\_\"? In order to proceed, you'll need to make sure you're familiar with selecting/dropping, table sorting, and element-wise array operations.\n",
    "\n",
    "<br></br>\n",
    "\n",
    "---\n",
    "## Question 2a – Removing columns\n",
    "\n",
    "In this section, we're not going to worry about the city where each school is – we'll look at cities in the next section. It'll be helpful to keep around the `'Region'` column just so that we can see at a glance if a school is in-state, domestic, or international. We also need it to tell apart the three `'ABRAHAM LINCOLN HIGH SCHOOL'`s!\n",
    "\n",
    "**Task**: Assign `schools_stats` to a new table  that contains all of the columns in `schools` except for `'City'`.\n"
   ]
  },
  {
   "cell_type": "code",
   "execution_count": null,
   "metadata": {
    "tags": []
   },
   "outputs": [],
   "source": [
    "schools_stats = ...\n",
    "schools_stats"
   ]
  },
  {
   "cell_type": "code",
   "execution_count": null,
   "metadata": {
    "deletable": false,
    "editable": false
   },
   "outputs": [],
   "source": [
    "grader.check(\"q2a\")"
   ]
  },
  {
   "cell_type": "markdown",
   "metadata": {},
   "source": [
    "---\n",
    "## Question 2b – Which school sent the most students?\n",
    "\n",
    "The value in the `'Enrolled'` column for each high school is the number of students they sent to UC Berkeley.\n",
    "\n",
    "Below, assign `feeders` to a table with the same columns as `schools_stats`, but with **only the 14 high schools who sent the most students to UC Berkeley**, sorted in descending order. The first five rows of your table should look like this:\n",
    "\n",
    "| Name                         | Region        |   Applied |   Admitted |   Enrolled |\n",
    "|-----------------------------:|--------------:|----------:|-----------:|-----------:|\n",
    "| LOWELL HIGH SCHOOL           | San Francisco |       435 |        106 |         64 |\n",
    "| IRVINGTON HIGH SCHOOL        | Alameda       |       248 |         63 |         47 |\n",
    "| DOUGHERTY VALLEY HIGH SCHOOL | Contra Costa  |       430 |         78 |         39 |\n",
    "| CANYON CREST ACADEMY         | San Diego     |       269 |         66 |         38 |\n",
    "| PORTOLA HIGH SCHOOL          | Orange        |       175 |         57 |         30 |\n",
    "\n",
    "_Hint_: Use the `sort` and `take` table methods\n"
   ]
  },
  {
   "cell_type": "code",
   "execution_count": null,
   "metadata": {
    "tags": []
   },
   "outputs": [],
   "source": [
    "feeders = ...\n",
    "feeders.show()"
   ]
  },
  {
   "cell_type": "code",
   "execution_count": null,
   "metadata": {
    "deletable": false,
    "editable": false
   },
   "outputs": [],
   "source": [
    "grader.check(\"q2b\")"
   ]
  },
  {
   "cell_type": "markdown",
   "metadata": {},
   "source": [
    "---\n",
    "## Question 2c – What was the acceptance rate of each school?\n",
    "\n",
    "Right now we have the number of students who applied, were admitted, and actually enrolled from each school. We don't have the acceptance rate of students at each school, but we can easily figure that out using some array operations!\n",
    "\n",
    "Below, assign `schools_stats_acc` to a table with the same four columns as `schools_stats` plus an additional fifth column. This fifth column should have the label `'Acceptance Rate'`, and its values should be the acceptance rates of each school, each as a decimal between 0 (no students were admitted) and 1 (all students were admitted).\n",
    "\n",
    "There are several steps involved:\n",
    "- First, create an array containing the acceptance rates for each school. This should be done in one line; remember that each column in a table is an array, and that if you divide two arrays, the division is performed element-wise (as we saw in Week 1).\n",
    "- Then, use the `with_columns` method to add an `'Acceptance Rate'` column to `schools_stats`, using the array you just created. Store your result in the table `schools_stats_acc`. The `schools_stats` table should not change!\n",
    "- **Note**: unlike in the previous question, you aren't supposed to sort or take the top 10.\n",
    "\n",
    "The first few rows of your table should look like this:\n",
    "\n",
    "| Name                        | Region        |   Applied |   Admitted |   Enrolled |   Acceptance Rate |\n",
    "|----------------------------:|--------------:|----------:|-----------:|-----------:|------------------:|\n",
    "| ABRAHAM LINCOLN HIGH SCHOOL | Los Angeles   |        17 |          6 |          3 |          0.352941 |\n",
    "| ABRAHAM LINCOLN HIGH SCHOOL | San Francisco |       106 |         21 |         14 |          0.198113 |\n",
    "| ABRAHAM LINCOLN HIGH SCHOOL | Santa Clara   |        48 |         10 |          4 |          0.208333 |\n",
    "| ACADEMY OF THE CANYONS      | Los Angeles   |        45 |         15 |          6 |          0.333333 |\n",
    "| ACADEMY-SAN FRAN @ MCATEER  | San Francisco |        19 |          8 |          5 |          0.421053 |\n",
    "\n"
   ]
  },
  {
   "cell_type": "code",
   "execution_count": null,
   "metadata": {
    "tags": []
   },
   "outputs": [],
   "source": [
    "acceptance_rates = ...\n",
    "schools_stats_acc = ...\n",
    "schools_stats_acc"
   ]
  },
  {
   "cell_type": "code",
   "execution_count": null,
   "metadata": {
    "deletable": false,
    "editable": false
   },
   "outputs": [],
   "source": [
    "grader.check(\"q2c\")"
   ]
  },
  {
   "cell_type": "markdown",
   "metadata": {},
   "source": [
    "---\n",
    "## Question 2d – Which schools had the lowest and highest acceptance rate?\n",
    "\n",
    "Now that we have a table, `schools_stats_acc`, containing the acceptance rate of each school, it's natural to ask which schools had the highest and lowest acceptance rates.\n",
    "\n",
    "Your job below is to define two **arrays**:\n",
    "- `top_5_acc`, which contains the **names** of the five schools with the highest acceptance rates, such that the first element of `top_5_acc` has the absolute highest acceptance rate, the second element has the second highest acceptance rate, and so on.\n",
    "- `bottom_5_acc`, which contains the **names** of the five schools with the lowest acceptance rates, such that the first element of `bottom_5_acc` has the absolute lowest acceptance rate, the second element has the second lowest acceptance rate, and so on.\n",
    "\n",
    "At some point, you'll need to sort `schools_stats_acc` by acceptance rate. However, how you choose to do that is up to you – you could elect to sort it in both descending and ascending order, or you could just sort it once and be creative with how you use `.take` (which you will need to use regardless).\n"
   ]
  },
  {
   "cell_type": "code",
   "execution_count": null,
   "metadata": {
    "tags": []
   },
   "outputs": [],
   "source": [
    "...\n",
    "\n",
    "top_5_acc = ...\n",
    "bottom_5_acc = ...\n",
    "\n",
    "# Don't change anything below this comment, it's just for visualization\n",
    "print('Top 5 acceptance rates:')\n",
    "for school in top_5_acc:\n",
    "    print(school)\n",
    "\n",
    "print('----------\\nBottom 5 acceptance rates:')\n",
    "for school in bottom_5_acc:\n",
    "    print(school)"
   ]
  },
  {
   "cell_type": "code",
   "execution_count": null,
   "metadata": {
    "deletable": false,
    "editable": false
   },
   "outputs": [],
   "source": [
    "grader.check(\"q2d\")"
   ]
  },
  {
   "cell_type": "markdown",
   "metadata": {},
   "source": [
    "<br></br>\n",
    "<hr style=\"border: 1px solid #fdb515;\" />\n",
    "\n",
    "# Question 3 – Location\n",
    "\n",
    "In the last question, we did not use the `'City'` column from `schools`. In this question, we'll bring that information back in. Here, we're going to heavily rely on the `.where` method and the various `are` predicates, so you may want to open the [`.are` documentation](http://data8.org/datascience/predicates.html?highlight=#datascience.predicates.are).\n",
    "\n",
    "In this question you will use `schools_acc`, with the five original columns in `schools` plus `'Acceptance Rate'` from `schools_stats_acc`."
   ]
  },
  {
   "cell_type": "code",
   "execution_count": null,
   "metadata": {},
   "outputs": [],
   "source": [
    "# Just run this cell\n",
    "schools_acc = schools.with_columns('Acceptance Rate', schools_stats_acc.column('Acceptance Rate'))\n",
    "schools_acc"
   ]
  },
  {
   "cell_type": "markdown",
   "metadata": {},
   "source": [
    "---\n",
    "## Question 3a – How many schools were in Los Angeles county?\n",
    "\n",
    "Los Angeles is both the name of a city and a county, and counties correspond to regions in our dataset (at least for California high schools).\n",
    "\n",
    "Below, assign `num_schools_lac` to the **number** of schools in our dataset that are from Los Angeles county.\n",
    "\n",
    "_Hint: This involves using `.where` and `.num_rows`._\n"
   ]
  },
  {
   "cell_type": "code",
   "execution_count": null,
   "metadata": {
    "tags": []
   },
   "outputs": [],
   "source": [
    "num_schools_lac = ...\n",
    "num_schools_lac"
   ]
  },
  {
   "cell_type": "code",
   "execution_count": null,
   "metadata": {
    "deletable": false,
    "editable": false
   },
   "outputs": [],
   "source": [
    "grader.check(\"q3a\")"
   ]
  },
  {
   "cell_type": "markdown",
   "metadata": {},
   "source": [
    "---\n",
    "## Question 3b – How many students actually enrolled from schools in Los Angeles county?\n",
    "\n",
    "Below, assign `num_students_lac` to the number of students who enrolled at UC Berkeley from high schools in Los Angeles county. This involves using `.where`.\n",
    "\n",
    "*Note*: While our solution is only one line, yours doesn't have to be.\n"
   ]
  },
  {
   "cell_type": "code",
   "execution_count": null,
   "metadata": {
    "tags": []
   },
   "outputs": [],
   "source": [
    "num_students_lac = ...\n",
    "num_students_lac"
   ]
  },
  {
   "cell_type": "code",
   "execution_count": null,
   "metadata": {
    "deletable": false,
    "editable": false
   },
   "outputs": [],
   "source": [
    "grader.check(\"q3b\")"
   ]
  },
  {
   "cell_type": "markdown",
   "metadata": {},
   "source": [
    "---\n",
    "## Question 3c – Which schools in Los Angeles county sent the most students?\n",
    "\n",
    "Below, assign `top_lac_schools` to a **table** with the same columns as `schools_acc`, but with **only the 10 high schools in Los Angeles county who sent the most students to UC Berkeley**, sorted in descending order. The first five rows of your table should look like this:\n",
    "\n",
    "| Name                          | City             | Region      |   Applied |   Admitted |   Enrolled |   Acceptance Rate |\n",
    "|------------------------------:|-----------------:|------------:|----------:|-----------:|-----------:|------------------:|\n",
    "| PALISADES CHARTER HIGH SCHOOL | Pacific Palisade | Los Angeles |       221 |         46 |         26 |          0.208145 |\n",
    "| ARCADIA HIGH SCHOOL           | Arcadia          | Los Angeles |       249 |         55 |         21 |          0.220884 |\n",
    "| DIAMOND BAR HIGH SCHOOL       | Diamond Bar      | Los Angeles |       264 |         39 |         19 |          0.147727 |\n",
    "| GRETCHEN WHITNEY HIGH SCHOOL  | Cerritos         | Los Angeles |        86 |         21 |         17 |          0.244186 |\n",
    "| SANTA MONICA HIGH SCHOOL      | Santa Monica     | Los Angeles |       195 |         38 |         15 |          0.194872 |\n",
    "\n",
    "*Note*: A high school *sends* a student to Berkeley when that student **enrolls** in the university."
   ]
  },
  {
   "cell_type": "code",
   "execution_count": null,
   "metadata": {
    "scrolled": true,
    "tags": []
   },
   "outputs": [],
   "source": [
    "top_lac_schools = ...\n",
    "top_lac_schools"
   ]
  },
  {
   "cell_type": "code",
   "execution_count": null,
   "metadata": {
    "deletable": false,
    "editable": false
   },
   "outputs": [],
   "source": [
    "grader.check(\"q3c\")"
   ]
  },
  {
   "cell_type": "markdown",
   "metadata": {},
   "source": [
    "---\n",
    "## Question 3d – Which schools in Alameda county sent more than 20 students?\n",
    "\n",
    "Below, assign `big_alameda` to a table containing all of the columns of `schools_acc`, but only the rows corresponding to schools in Alameda county that sent more than 20 students to Berkeley. Don't sort.\n",
    "\n",
    "_Hint_: You can use `.where` multiple times if there are multiple conditions you want to be true; that's what you'll need to do here.\n"
   ]
  },
  {
   "cell_type": "code",
   "execution_count": null,
   "metadata": {
    "tags": []
   },
   "outputs": [],
   "source": [
    "big_alameda = ...\n",
    "big_alameda"
   ]
  },
  {
   "cell_type": "code",
   "execution_count": null,
   "metadata": {
    "deletable": false,
    "editable": false
   },
   "outputs": [],
   "source": [
    "grader.check(\"q3d\")"
   ]
  },
  {
   "cell_type": "markdown",
   "metadata": {},
   "source": [
    "---\n",
    "## Question 3e – How many students applied from schools in the Bay Area? \n",
    "\n",
    "<img src='https://upload.wikimedia.org/wikipedia/commons/b/bc/Bayarea_map.png' width=400>\n",
    "\n",
    "The Bay Area consists of the nine counties `'San Francisco'`, `'San Mateo'`, `'Santa Clara'`, `'Alameda'`, `'Contra Costa'`, `'Solano'`, `'Napa'`, `'Sonoma'`, and `'Marin'`.\n",
    "\n",
    "Below, you have two tasks.\n",
    "1. Assign `bay_schools` to a table with the same columns as `schools_acc`, but only with rows corresponding to schools in the Bay Area. You should do this by first creating an array of the names of the nine Bay Area counties, and then use `.where` with `are.contained_in` to filter just the relevant rows from `schools_acc`. Don't sort.\n",
    "2. Assign `bay_acc_rate` to the overall acceptance rate of students from the Bay Area. **This requires a new calculation, you can't just look at the `'Acceptance Rate'` column in your table.** \n",
    "\n",
    "_Hint_: How did we calculate the overall acceptance rate in Question 1?\n"
   ]
  },
  {
   "cell_type": "code",
   "execution_count": null,
   "metadata": {
    "tags": []
   },
   "outputs": [],
   "source": [
    "bay_counties = ...\n",
    "bay_schools = ...\n",
    "bay_acc_rate = ...\n",
    "\n",
    "# Don't change anything below this comment, it's just for visualization\n",
    "display(bay_schools)\n",
    "print(f\"Bay Area Acceptance Rate: {bay_acc_rate}\")"
   ]
  },
  {
   "cell_type": "code",
   "execution_count": null,
   "metadata": {
    "deletable": false,
    "editable": false
   },
   "outputs": [],
   "source": [
    "grader.check(\"q3e\")"
   ]
  },
  {
   "cell_type": "markdown",
   "metadata": {
    "vscode": {
     "languageId": "raw"
    }
   },
   "source": [
    "---\n",
    "## Question 3f – Which large cities are most successful in admissions? \n",
    "\n",
    "Below, you have two tasks.\n",
    "1. Assign `schools_by_city` to a table with a row for each city in the table. It should have at three columns the City, Applied Average - the average number of applicants, and Acceptance Rate Average - the unweighted average acceptance rate in that city. You should do this by first selecting the relevant columns, and then using `.group`. \n",
    "2. Now that you have the `schools_by_city` table assign `high_acceptance_city` to the top five cities by acceptance rate who had at least 10 applicants on average.\n",
    "\n",
    "_Hint_: ????"
   ]
  },
  {
   "cell_type": "code",
   "execution_count": null,
   "metadata": {
    "tags": []
   },
   "outputs": [],
   "source": [
    "schools_by_city = ...\n",
    "high_acceptance_city = ...\n",
    "high_acceptance_city"
   ]
  },
  {
   "cell_type": "code",
   "execution_count": null,
   "metadata": {
    "deletable": false,
    "editable": false
   },
   "outputs": [],
   "source": [
    "grader.check(\"q3f\")"
   ]
  },
  {
   "cell_type": "markdown",
   "metadata": {},
   "source": [
    "## Part 4: Real-World Risks within Data"
   ]
  },
  {
   "cell_type": "markdown",
   "metadata": {},
   "source": [
    "Now, we are going to look at a very interesting dataset, the 1973's UC Berkeley Admission for data analysis! Through out this part, we will be working with `UCBerkeley1973_Admission.csv` file."
   ]
  },
  {
   "cell_type": "code",
   "execution_count": null,
   "metadata": {},
   "outputs": [],
   "source": [
    "cal_data  = Table.read_table(\"UCBerkeley1973_Admission.csv\")\n",
    "cal_data"
   ]
  },
  {
   "cell_type": "markdown",
   "metadata": {},
   "source": [
    "<!-- BEGIN QUESTION -->\n",
    "\n",
    "### Question 4.1 (Discussion)\n",
    "Looking at `cal_data` first glance, what do you observe? Try exploring the dataset by what you have learned so far in class! Reflect in 2-3 sentences on what you have noticed about te data. Feel free to add/ delete more cells beyond our given cell."
   ]
  },
  {
   "cell_type": "markdown",
   "metadata": {},
   "source": [
    "_Type your answer here, replacing this text._"
   ]
  },
  {
   "cell_type": "markdown",
   "metadata": {},
   "source": [
    "<!-- END QUESTION -->\n",
    "\n"
   ]
  },
  {
   "cell_type": "code",
   "execution_count": null,
   "metadata": {},
   "outputs": [],
   "source": [
    "# You can use this cell to explore the `cal_data` table"
   ]
  },
  {
   "cell_type": "markdown",
   "metadata": {},
   "source": [
    "For this case study, we'll be doing some exploration of the rates of admission between males and females at UC Berkeley in 1973. To start off, below we calculate the raw acceptance rates for males and females:"
   ]
  },
  {
   "cell_type": "code",
   "execution_count": null,
   "metadata": {},
   "outputs": [],
   "source": [
    "total_f = sum(cal_data.column(\"Gender\") == \"F\")\n",
    "total_m = sum(cal_data.column(\"Gender\") == \"M\")\n",
    "accepted_f = cal_data.where(\"Admission\", \"Accepted\").where(\"Gender\", \"F\").num_rows\n",
    "accepted_m =  cal_data.where(\"Admission\", \"Accepted\").where(\"Gender\", \"M\").num_rows\n",
    "acceptance_rate_f = accepted_f / total_f * 100\n",
    "acceptance_rate_m = accepted_m / total_m * 100\n",
    "print(\"1973's Berkeley admission rate seems to be: female:\", acceptance_rate_f, \"and male:\", acceptance_rate_m)"
   ]
  },
  {
   "cell_type": "markdown",
   "metadata": {},
   "source": [
    "Keep these rates in mind as we begin exploring some visualization and table methods to look into an effect called **\"Simpson's Paradox\"**. "
   ]
  },
  {
   "cell_type": "markdown",
   "metadata": {},
   "source": [
    "---\n",
    "### Simpson's Paradox\n",
    "According to [Wikipedia](https://en.wikipedia.org/wiki/Simpson%27s_paradox), Simpson's Paradox \"is a phenomenon in probability and statistics in which a trend appears in several groups of data but disappears or reverses when the groups are combined.\"\n",
    "\n",
    "At first glance of the UC Berkeley Admission dataset, it seems male have higher chance being accepted. However, when looked closer by major (department), a different story emergered. We found that females were equal or more likely to be accepted when looked at each department. In fact, a [study](https://homepage.stat.uiowa.edu/~mbognar/1030/Bickel-Berkeley.pdf) found that female applicants disproportionately applied to highly competitive majors with low acceptance rates (e.g., English), while men more often applied to less competitive majors with higher acceptance rates. *More female applicants applying to competitive programs skewed the combined data, creating the appearance of bias against female applicants, when in many cases, women were either equally likely or more likely to be admitted compared to men in the same department.*"
   ]
  },
  {
   "cell_type": "markdown",
   "id": "24efbe4b",
   "metadata": {},
   "source": [
    "Now let's see this phenomenon in practice! \n",
    "\n",
    "We have manipulated the `cal_data` and got the numbers for rejected and accepted count for both female and male in our 1973 admission data."
   ]
  },
  {
   "cell_type": "markdown",
   "id": "bc500c81",
   "metadata": {},
   "source": [
    "### Question 4.2\n",
    "Using the `.pivot()` method, assign the table `admission_f_m` to one that contains the count of individuals rejected and accepted for both females and males.\n",
    "\n",
    "*Hint:* Using the `cal_data` table, we want the `\"Admission\"` column to be our columns, and the `\"Gender\"` column to be our rows."
   ]
  },
  {
   "cell_type": "code",
   "execution_count": null,
   "id": "06fd56bb",
   "metadata": {
    "tags": []
   },
   "outputs": [],
   "source": [
    "admission_f_m = ...\n",
    "admission_f_m"
   ]
  },
  {
   "cell_type": "code",
   "execution_count": null,
   "id": "4ebc30e4",
   "metadata": {
    "deletable": false,
    "editable": false
   },
   "outputs": [],
   "source": [
    "grader.check(\"q4_2\")"
   ]
  },
  {
   "cell_type": "markdown",
   "id": "21a6b957",
   "metadata": {},
   "source": [
    "### Question 4.3\n",
    "We want to manually add a new column called `\"Acceptance Rate\"` with values of acceptance rates for females and males to the `admission_f_m` table. Below, fill in the code to calculate the female and male acceptance rates, and from there, we supply the code that creates a new column with these rates. Acceptance rate should be calculated as accepted count divided by total count!\n",
    "\n",
    "*Hint:* You may find it helpful to use the `.column()` and `.item()` methods."
   ]
  },
  {
   "cell_type": "code",
   "execution_count": null,
   "id": "e4617c0f",
   "metadata": {
    "tags": []
   },
   "outputs": [],
   "source": [
    "f_acceptance_rate = ...\n",
    "m_acceptance_rate = ...\n",
    "acceptance_rates = make_array(f_acceptance_rate, m_acceptance_rate)\n",
    "admission_f_m = admission_f_m.with_column(\"Acceptance Rate\",  acceptance_rates)\n",
    "admission_f_m"
   ]
  },
  {
   "cell_type": "code",
   "execution_count": null,
   "id": "4f776466",
   "metadata": {
    "deletable": false,
    "editable": false
   },
   "outputs": [],
   "source": [
    "grader.check(\"q4_3\")"
   ]
  },
  {
   "cell_type": "markdown",
   "id": "4fd16e9b",
   "metadata": {},
   "source": [
    "<!-- BEGIN QUESTION -->\n",
    "\n",
    "### Question 4.4\n",
    "Using the adjusted `admission_f_m`, create a bar graph comparing the acceptance rate between female and male applicants. If you are stuck, consider taking a look at Lab 3 again!"
   ]
  },
  {
   "cell_type": "code",
   "execution_count": null,
   "id": "a07e3740",
   "metadata": {
    "tags": []
   },
   "outputs": [],
   "source": [
    "..."
   ]
  },
  {
   "cell_type": "markdown",
   "id": "c5e6dc65",
   "metadata": {},
   "source": [
    "<!-- END QUESTION -->\n",
    "\n",
    "### Question 4.5\n",
    "Which of the following most accurately describes the takeaway from the visualization created by `admission_f_m` above? You should answer the question by assigning `q4_5` to `make_array(...)` where `...` is the choice of your answer (eg. `make_array(3)`).\n",
    "\n",
    "1. Female applicants have higher chance of being accepted.\n",
    "2. Male applicants have higher chance of being accepted.\n",
    "3. Female and male applicants have the same amount chance of being accepted."
   ]
  },
  {
   "cell_type": "code",
   "execution_count": null,
   "id": "470acad1",
   "metadata": {
    "tags": []
   },
   "outputs": [],
   "source": [
    "q4_5 = ..."
   ]
  },
  {
   "cell_type": "code",
   "execution_count": null,
   "id": "582b15bc",
   "metadata": {
    "deletable": false,
    "editable": false
   },
   "outputs": [],
   "source": [
    "grader.check(\"q4_5\")"
   ]
  },
  {
   "cell_type": "markdown",
   "id": "bd532966",
   "metadata": {},
   "source": [
    "We see by simply utilizing `\"Gender\"` and `\"Admission\"` to calculate overall acceptance rates for graduate admissions, the male acceptance rate seems to be higher than the female acceptance rate. However, besides `\"Gender\"` and `\"Admission\"`, there was a third column in this table: `\"Major\"`. Let's investigate how the major will take into play with admission rate between these two recorded gender. (How \"grouping\" by major as described in Simpson's Paradox will affect the applicants' acceptance rate by gender).\n",
    "\n",
    "Below, we create two different tables using more complex functionalities of `.group()` and `.pivot()`. Take a look at the information we have gained using the `\"Major\"` feature below:"
   ]
  },
  {
   "cell_type": "code",
   "execution_count": null,
   "id": "46e248d6",
   "metadata": {},
   "outputs": [],
   "source": [
    "admission_major = cal_data.pivot('Gender', 'Major', collect = lambda x: sum(x == 'Accepted') / len(x), values = 'Admission')\n",
    "admission_major = admission_major.relabeled(['F', 'M'], ['F Acceptance Rate', 'M Acceptance Rate'])\n",
    "admission_major"
   ]
  },
  {
   "cell_type": "code",
   "execution_count": null,
   "id": "4fc32b73",
   "metadata": {},
   "outputs": [],
   "source": [
    "num_applicants = cal_data.group(['Major', 'Gender']).pivot('Gender', 'Major', collect = np.sum, values = 'count')\n",
    "num_applicants = num_applicants.relabeled(['F', 'M'], ['F Application Count', 'M Application Count'])\n",
    "num_applicants"
   ]
  },
  {
   "cell_type": "markdown",
   "id": "4de65a66",
   "metadata": {},
   "source": [
    "#### BREAK FOR FIGURE 1 TEST\n",
    "This is test code to see if we could create Figure 1 from [this paper](https://homepage.stat.uiowa.edu/~mbognar/1030/Bickel-Berkeley.pdf) using the data we had access to."
   ]
  },
  {
   "cell_type": "code",
   "execution_count": null,
   "id": "8797ad9f",
   "metadata": {},
   "outputs": [],
   "source": [
    "percent_admit_test = cal_data.pivot('Admission', 'Major')\n",
    "percent_admit_array = percent_admit_test.column('Accepted') / (percent_admit_test.column('Accepted') + percent_admit_test.column('Rejected'))\n",
    "percent_admit_test = percent_admit_test.with_column('Percent Admitted', percent_admit_array)\n",
    "percent_admit_test"
   ]
  },
  {
   "cell_type": "code",
   "execution_count": null,
   "id": "da6ab760",
   "metadata": {},
   "outputs": [],
   "source": [
    "percent_female_array = num_applicants.column('F Application Count') / (num_applicants.column('F Application Count') + num_applicants.column('M Application Count'))\n",
    "num_applicants_test = num_applicants.with_column('Percent Female Applicants', percent_female_array)\n",
    "num_applicants_test"
   ]
  },
  {
   "cell_type": "code",
   "execution_count": null,
   "id": "1c9894d1",
   "metadata": {},
   "outputs": [],
   "source": [
    "fig1_test = percent_admit_test.join('Major', num_applicants_test)\n",
    "fig1_test = fig1_test.with_column('Number Applicants', fig1_test.column('Accepted') + fig1_test.column('Rejected'))\n",
    "fig1_test"
   ]
  },
  {
   "cell_type": "code",
   "execution_count": null,
   "id": "24adddea",
   "metadata": {},
   "outputs": [],
   "source": [
    "fig1_test.scatter('Percent Female Applicants', 'Percent Admitted', sizes = 'Number Applicants')"
   ]
  },
  {
   "cell_type": "markdown",
   "id": "606ad1d2",
   "metadata": {},
   "source": [
    "#### BREAK DONE"
   ]
  },
  {
   "cell_type": "markdown",
   "id": "95bc393c",
   "metadata": {},
   "source": [
    "<!-- BEGIN QUESTION -->\n",
    "\n",
    "### Question 4.6\n",
    "Using `admission_major` and `num_applicants`, create two separate overlaid bar charts. The first one will plot the number of applicants of males and females across the six majors, and the second will plot their acceptance rates in the majors."
   ]
  },
  {
   "cell_type": "code",
   "execution_count": null,
   "id": "5a1fc8ac",
   "metadata": {
    "tags": []
   },
   "outputs": [],
   "source": [
    "...\n",
    "..."
   ]
  },
  {
   "cell_type": "markdown",
   "id": "06eb80e5",
   "metadata": {},
   "source": [
    "<!-- END QUESTION -->\n",
    "\n",
    "### Question 4.7\n",
    "Which of the following multiple choice correcrly describes *the visualization created above* with `admission_major` and `num_applicants`? You should answer the question by assigning `q4_7` to `make_array(...)` where `...` is the choice of your answer (eg. `make_array(3, 4)`). Your choice can be can multiple.\n",
    "\n",
    "1. Among the 6 different majors (not including `\"Other\"`, female applicants have a slightly higher chance of being accepted than male applicants in several majors\n",
    "2. Among the 6 different majors (not including `\"Other\"`), male applicants have a slightly higher chance of being accepted than female applicants in several majors.\n",
    "3. Overall, female applicants has higher chance of getting in to UC Berkeley.\n",
    "4. Overall, male applicants has higher chance of getting in to UC Berkeley. \n",
    "5. There seems to be **higher female applicants** to the major when there are **lower female acceptance rate** compared to male acceptance rate.  \n",
    "6. With the visualizatoin above, we can claim there is structrual inequity against female women applicants. "
   ]
  },
  {
   "cell_type": "code",
   "execution_count": null,
   "id": "3f75adf9",
   "metadata": {
    "tags": []
   },
   "outputs": [],
   "source": [
    "q4_7 = ..."
   ]
  },
  {
   "cell_type": "code",
   "execution_count": null,
   "id": "6bf2a8d4",
   "metadata": {
    "deletable": false,
    "editable": false
   },
   "outputs": [],
   "source": [
    "grader.check(\"q4_7\")"
   ]
  },
  {
   "cell_type": "markdown",
   "id": "683c4482",
   "metadata": {},
   "source": [
    "---\n",
    "### Thinking about Implications 🤔"
   ]
  },
  {
   "cell_type": "markdown",
   "id": "dfa0668a",
   "metadata": {},
   "source": [
    "<!-- BEGIN QUESTION -->\n",
    "\n",
    "### Question 4.8 (Discussion)\n",
    "Consider the takeaways that you had after looking at the different visualizations you created in **Questions 4.4 and 4.6**. Based on what we've discussed regarding the various sociological paradigms, how do you think these conclusions best align with the paradigms?\n",
    "\n",
    "*Hint:* The conclusions might not line up perfectly with any one of the paradigms! Just feel free to reflect on which ones they might line up best or worst with. "
   ]
  },
  {
   "cell_type": "markdown",
   "id": "7532804b",
   "metadata": {},
   "source": [
    "_Type your answer here, replacing this text._"
   ]
  },
  {
   "cell_type": "markdown",
   "id": "35024929",
   "metadata": {},
   "source": [
    "<!-- END QUESTION -->\n",
    "\n",
    "<!-- BEGIN QUESTION -->\n",
    "\n",
    "### Question 4.9 (Discussion) \n",
    "A media company wants to make a report on UC Berkeley admissions. What would happen if they ONLY report with the visualization you created in **`Question 4.4`**? How would this report potentially impact the society we see today?"
   ]
  },
  {
   "cell_type": "markdown",
   "metadata": {},
   "source": [
    "_Type your answer here, replacing this text._"
   ]
  },
  {
   "cell_type": "markdown",
   "metadata": {},
   "source": [
    "<!-- END QUESTION -->\n",
    "\n",
    "<!-- BEGIN QUESTION -->\n",
    "\n",
    "### Question 4.10 (Final Reflection)"
   ]
  },
  {
   "cell_type": "markdown",
   "metadata": {},
   "source": [
    "_Type your answer here, replacing this text._"
   ]
  },
  {
   "cell_type": "markdown",
   "metadata": {},
   "source": [
    "<!-- END QUESTION -->\n",
    "\n",
    "# Done!\n",
    "\n",
    "Congrats! You've finished another Data 6 homework assignment! To submit your work, follow the steps outlined on the [submissions](https://data6.org/su24/submissions/) page.\n",
    "\n",
    "This homework is out of **40 points**. The point breakdown for this assignment is given in the table below:\n",
    "\n",
    "| **Category** | Points |\n",
    "| --- | --- |\n",
    "| Autograder | 33 |\n",
    "| Written | 7 |\n",
    "| **Total** | 40 |"
   ]
  },
  {
   "cell_type": "markdown",
   "metadata": {},
   "source": [
    "---"
   ]
  },
  {
   "attachments": {},
   "cell_type": "markdown",
   "metadata": {},
   "source": [
    "## Pets of Data 6\n",
    "Sunkist is living it up! Good job on HW3\n",
    "\n",
    "<img src=\"https://github.com/data-6-berkeley/materials-su24/blob/main/hw/hw03/sunkist.jpg?raw=true\" width=\"40%\" alt=\"Orange cat laying down\"/>"
   ]
  },
  {
   "cell_type": "markdown",
   "metadata": {},
   "source": [
    "## Submission\n",
    "\n",
    "Below, you will see two cells. Running the first cell will automatically generate a PDF of all questions that need to be manually graded, and running the second cell will automatically generate a zip with your autograded answers. You are responsible for submitting both the coding portion (the zip) and the written portion (the PDF) to their respective Gradescope portals. **Please save before exporting!**\n",
    "\n",
    "> **Important: You must correctly assign the pages of your PDF after you submit to the correct gradescope assignment. If your pages are not correctly assigned and/or not in the correct PDF format by the deadline, we reserve the right to award no points for your written work.**\n",
    "\n",
    "If there are issues with automatically generating the PDF in the first cell, you can try downloading the notebook as a PDF by colicking on `File -> Save and Export Notebook As... -> PDF`. If that doesn't work either, you can manually take screenshots of your answers to the manually graded questions and submit those. Either way, **you are responsible for ensuring your submision follows our requirements, we will NOT be granting regrade requests for submissions that don't follow instructions.**"
   ]
  },
  {
   "cell_type": "code",
   "execution_count": null,
   "metadata": {},
   "outputs": [],
   "source": [
    "from otter.export import export_notebook\n",
    "from os import path\n",
    "from IPython.display import display, HTML\n",
    "name = 'hw03'\n",
    "export_notebook(f\"{name}.ipynb\", filtering=True, pagebreaks=True)\n",
    "if(path.exists(f'{name}.pdf')):\n",
    "    display(HTML(f\"Download your PDF <a href='{name}.pdf' download>here</a>.\"))\n",
    "else:\n",
    "    print(\"\\n Pdf generation failed, please try the other methods described above\")"
   ]
  },
  {
   "cell_type": "markdown",
   "metadata": {
    "deletable": false,
    "editable": false
   },
   "source": [
    "## Submission\n",
    "\n",
    "Make sure you have run all cells in your notebook in order before running the cell below, so that all images/graphs appear in the output. The cell below will generate a zip file for you to submit. **Please save before exporting!**"
   ]
  },
  {
   "cell_type": "code",
   "execution_count": null,
   "metadata": {
    "deletable": false,
    "editable": false
   },
   "outputs": [],
   "source": [
    "# Save your notebook first, then run this cell to export your submission.\n",
    "grader.export(pdf=False, run_tests=True)"
   ]
  },
  {
   "cell_type": "markdown",
   "metadata": {},
   "source": [
    " "
   ]
  }
 ],
 "metadata": {
  "kernelspec": {
   "display_name": "Python 3",
   "language": "python",
   "name": "python3"
  },
  "language_info": {
   "codemirror_mode": {
    "name": "ipython",
    "version": 3
   },
   "file_extension": ".py",
   "mimetype": "text/x-python",
   "name": "python",
   "nbconvert_exporter": "python",
   "pygments_lexer": "ipython3",
   "version": "3.12.4"
  },
  "otter": {
   "OK_FORMAT": true,
   "tests": {
    "q1a": {
     "name": "q1a",
     "points": 1,
     "suites": [
      {
       "cases": [
        {
         "code": ">>> type(num_admitted) in set([int, np.int32, np.int64])\nTrue",
         "hidden": false,
         "locked": false
        },
        {
         "code": ">>> 8000 < num_admitted < 9000\nTrue",
         "hidden": false,
         "locked": false
        },
        {
         "code": ">>> # If you see this, don't just copy the answer: think about how you can repurpose the 'Applied' example to help you here.\n>>> num_admitted == 8495\nTrue",
         "hidden": false,
         "locked": false
        }
       ],
       "scored": true,
       "setup": "",
       "teardown": "",
       "type": "doctest"
      }
     ]
    },
    "q1b": {
     "name": "q1b",
     "points": 1,
     "suites": [
      {
       "cases": [
        {
         "code": ">>> type(overall_acceptance_rate) in set([float, np.float32, np.float64])\nTrue",
         "hidden": false,
         "locked": false
        },
        {
         "code": ">>> 0.2 < overall_acceptance_rate < 0.22\nTrue",
         "hidden": false,
         "locked": false
        },
        {
         "code": ">>> np.isclose(overall_acceptance_rate, 0.2115815691158157)\nTrue",
         "hidden": false,
         "locked": false
        }
       ],
       "scored": true,
       "setup": "",
       "teardown": "",
       "type": "doctest"
      }
     ]
    },
    "q2a": {
     "name": "q2a",
     "points": 1,
     "suites": [
      {
       "cases": [
        {
         "code": ">>> isinstance(schools_stats, Table)\nTrue",
         "hidden": false,
         "locked": false
        },
        {
         "code": ">>> schools_stats.labels == ('Name', 'Region', 'Applied', 'Admitted', 'Enrolled')\nTrue",
         "hidden": false,
         "locked": false
        },
        {
         "code": ">>> schools_stats.num_rows == 659\nTrue",
         "hidden": false,
         "locked": false
        }
       ],
       "scored": true,
       "setup": "",
       "teardown": "",
       "type": "doctest"
      }
     ]
    },
    "q2b": {
     "name": "q2b",
     "points": 2,
     "suites": [
      {
       "cases": [
        {
         "code": ">>> isinstance(feeders, Table)\nTrue",
         "hidden": false,
         "locked": false
        },
        {
         "code": ">>> feeders.num_rows == 14\nTrue",
         "hidden": false,
         "locked": false
        },
        {
         "code": ">>> feeders.labels == ('Name', 'Region', 'Applied', 'Admitted', 'Enrolled')\nTrue",
         "hidden": false,
         "locked": false
        },
        {
         "code": ">>> all(feeders.column('Enrolled') == make_array(64, 47, 39, 38, 30, 28, 27, 26, 26, 25, 25, 23, 23, 22))\nTrue",
         "hidden": false,
         "locked": false
        },
        {
         "code": ">>> all(sorted(feeders.column('Name')) == make_array('AMADOR VALLEY HIGH SCHOOL',\n...  'AMERICAN HIGH SCHOOL',\n...  'CANYON CREST ACADEMY',\n...  'DOUGHERTY VALLEY HIGH SCHOOL',\n...  'DUBLIN HIGH SCHOOL',\n...  'FOOTHILL HIGH SCHOOL',\n...  'IRVINGTON HIGH SCHOOL',\n...  'JAMES LOGAN HIGH SCHOOL',\n...  'LOWELL HIGH SCHOOL',\n...  'MISSION SAN JOSE HIGH SCHOOL',\n...  'PALISADES CHARTER HIGH SCHOOL',\n...  'PORTOLA HIGH SCHOOL',\n...  'UNIVERSITY HIGH SCHOOL',\n...  'WOODBRIDGE HIGH SCHOOL'))\nTrue",
         "hidden": false,
         "locked": false
        }
       ],
       "scored": true,
       "setup": "",
       "teardown": "",
       "type": "doctest"
      }
     ]
    },
    "q2c": {
     "name": "q2c",
     "points": 3,
     "suites": [
      {
       "cases": [
        {
         "code": ">>> isinstance(schools_stats_acc, Table)\nTrue",
         "hidden": false,
         "locked": false
        },
        {
         "code": ">>> schools_stats_acc.labels == ('Name', 'Region', 'Applied', 'Admitted', 'Enrolled', 'Acceptance Rate')\nTrue",
         "hidden": false,
         "locked": false
        },
        {
         "code": ">>> schools_stats.num_rows == 659\nTrue",
         "hidden": false,
         "locked": false
        },
        {
         "code": ">>> # Making sure schools_stats didn't change\n>>> schools_stats.labels == ('Name', 'Region', 'Applied', 'Admitted', 'Enrolled')\nTrue",
         "hidden": false,
         "locked": false
        },
        {
         "code": ">>> all(np.isclose(schools_stats_acc.column('Acceptance Rate').take(np.arange(10)), np.array([0.35294118, 0.19811321, 0.20833333, 0.33333333, 0.42105263, 0.21538462, 0.15730337, 0.16666667, 0.18292683, 0.14285714])))\nTrue",
         "hidden": false,
         "locked": false
        }
       ],
       "scored": true,
       "setup": "",
       "teardown": "",
       "type": "doctest"
      }
     ]
    },
    "q2d": {
     "name": "q2d",
     "points": 3,
     "suites": [
      {
       "cases": [
        {
         "code": ">>> isinstance(top_5_acc, np.ndarray)\nTrue",
         "hidden": false,
         "locked": false
        },
        {
         "code": ">>> isinstance(bottom_5_acc, np.ndarray)\nTrue",
         "hidden": false,
         "locked": false
        },
        {
         "code": ">>> np.all(sorted(top_5_acc) == sorted(np.array(['ROSELAND COLLEGIATE PREP', 'GRANGE SCHOOL THE', 'FELICITAS GONZALO MENDEZ HS', 'ALLIANCE M&E STERN MATH SCI SCH', 'SOUTH HIGH SCHOOL'])))\nTrue",
         "hidden": false,
         "locked": false
        },
        {
         "code": ">>> np.all(sorted(bottom_5_acc) == sorted(np.array(['NANJING FOREIGN LANGUAGE SCH', 'BEIJING NATIONAL DAY SCHOOL', 'HIGH SCH @RENMIN UNIV OF CHINA', 'SKYLINE HIGH SCHOOL', 'SHANGHAI FOREIGN LANGUAGE SCHL'])))\nTrue",
         "hidden": false,
         "locked": false
        }
       ],
       "scored": true,
       "setup": "",
       "teardown": "",
       "type": "doctest"
      }
     ]
    },
    "q3a": {
     "name": "q3a",
     "points": 1,
     "suites": [
      {
       "cases": [
        {
         "code": ">>> type(num_schools_lac) in set([int, np.int32, np.int64])\nTrue",
         "hidden": false,
         "locked": false
        },
        {
         "code": ">>> 120 < num_schools_lac < 130\nTrue",
         "hidden": false,
         "locked": false
        },
        {
         "code": ">>> num_schools_lac == 126\nTrue",
         "hidden": false,
         "locked": false
        }
       ],
       "scored": true,
       "setup": "",
       "teardown": "",
       "type": "doctest"
      }
     ]
    },
    "q3b": {
     "name": "q3b",
     "points": 2,
     "suites": [
      {
       "cases": [
        {
         "code": ">>> type(num_students_lac) in set([int, np.int32, np.int64])\nTrue",
         "hidden": false,
         "locked": false
        },
        {
         "code": ">>> 760 < num_students_lac < 770\nTrue",
         "hidden": false,
         "locked": false
        },
        {
         "code": ">>> num_students_lac == 765\nTrue",
         "hidden": false,
         "locked": false
        }
       ],
       "scored": true,
       "setup": "",
       "teardown": "",
       "type": "doctest"
      }
     ]
    },
    "q3c": {
     "name": "q3c",
     "points": 3,
     "suites": [
      {
       "cases": [
        {
         "code": ">>> isinstance(top_lac_schools, Table)\nTrue",
         "hidden": false,
         "locked": false
        },
        {
         "code": ">>> top_lac_schools.labels == ('Name', 'City', 'Region', 'Applied', 'Admitted', 'Enrolled', 'Acceptance Rate')\nTrue",
         "hidden": false,
         "locked": false
        },
        {
         "code": ">>> top_lac_schools.num_rows == 10\nTrue",
         "hidden": false,
         "locked": false
        },
        {
         "code": ">>> np.all(sorted(top_lac_schools.column('Name')) == sorted(np.array(['PALISADES CHARTER HIGH SCHOOL', 'ARCADIA HIGH SCHOOL', 'DIAMOND BAR HIGH SCHOOL', 'GRETCHEN WHITNEY HIGH SCHOOL', 'SANTA MONICA HIGH SCHOOL', 'GRANADA HILLS CHARTER HIGH SCH', 'PALOS VERDES PENINSULA HS', 'VAN NUYS HIGH SCHOOL', 'WALNUT HIGH SCHOOL', 'SOUTH PASADENA HIGH SCHOOL'])))\nTrue",
         "hidden": false,
         "locked": false
        },
        {
         "code": ">>> np.all(np.isclose(sorted(top_lac_schools.column('Acceptance Rate')), sorted(np.array([0.2081448 , 0.22088353, 0.14772727, 0.24418605, 0.19487179, 0.18584071, 0.19565217, 0.31818182, 0.20710059, 0.23469388]))))\nTrue",
         "hidden": false,
         "locked": false
        }
       ],
       "scored": true,
       "setup": "",
       "teardown": "",
       "type": "doctest"
      }
     ]
    },
    "q3d": {
     "name": "q3d",
     "points": 2,
     "suites": [
      {
       "cases": [
        {
         "code": ">>> isinstance(big_alameda, Table)\nTrue",
         "hidden": false,
         "locked": false
        },
        {
         "code": ">>> big_alameda.labels == ('Name', 'City', 'Region', 'Applied', 'Admitted', 'Enrolled', 'Acceptance Rate')\nTrue",
         "hidden": false,
         "locked": false
        },
        {
         "code": ">>> big_alameda.num_rows == 7\nTrue",
         "hidden": false,
         "locked": false
        },
        {
         "code": ">>> np.all(big_alameda.column('Name') == np.array(['AMADOR VALLEY HIGH SCHOOL', 'AMERICAN HIGH SCHOOL', 'DUBLIN HIGH SCHOOL', 'FOOTHILL HIGH SCHOOL', 'IRVINGTON HIGH SCHOOL', 'JAMES LOGAN HIGH SCHOOL', 'MISSION SAN JOSE HIGH SCHOOL']))\nTrue",
         "hidden": false,
         "locked": false
        },
        {
         "code": ">>> np.all(big_alameda.column('Enrolled') == np.array([23, 25, 26, 27, 47, 25, 28]))\nTrue",
         "hidden": false,
         "locked": false
        }
       ],
       "scored": true,
       "setup": "",
       "teardown": "",
       "type": "doctest"
      }
     ]
    },
    "q3e": {
     "name": "q3e",
     "points": 4,
     "suites": [
      {
       "cases": [
        {
         "code": ">>> # Make sure that you're assigning `bay_schools` to a table of Bay Area schools!\n>>> isinstance(bay_schools, Table)\nTrue",
         "hidden": false,
         "locked": false
        },
        {
         "code": ">>> bay_schools.labels == ('Name',\n...  'City',\n...  'Region',\n...  'Applied',\n...  'Admitted',\n...  'Enrolled',\n...  'Acceptance Rate')\nTrue",
         "hidden": false,
         "locked": false
        },
        {
         "code": ">>> bay_schools.num_rows == 190\nTrue",
         "hidden": false,
         "locked": false
        },
        {
         "code": ">>> np.all(bay_schools.column('Name').take(np.arange(50, 55)) == np.array(['EMERY SECONDARY SCHOOL', 'ENCINAL HIGH SCHOOL', 'ENVISION ACAD ARTS/TECHNOLOGY', 'EVEREST PUBLIC HIGH SCHOOL', 'EVERGREEN VALLEY HIGH SCHOOL']))\nTrue",
         "hidden": false,
         "locked": false
        },
        {
         "code": ">>> np.all(bay_schools.column('Enrolled').take(np.arange(30, 35)) == np.array([19,  5,  3,  8, 11]))\nTrue",
         "hidden": false,
         "locked": false
        },
        {
         "code": ">>> bay_acc_rate < 0.2\nTrue",
         "hidden": false,
         "locked": false
        },
        {
         "code": ">>> np.isclose(bay_acc_rate, 0.18745785)\nTrue",
         "hidden": false,
         "locked": false
        }
       ],
       "scored": true,
       "setup": "",
       "teardown": "",
       "type": "doctest"
      }
     ]
    },
    "q3f": {
     "name": "q3f",
     "points": 5,
     "suites": [
      {
       "cases": [
        {
         "code": ">>> isinstance(schools_by_city, Table)\nTrue",
         "hidden": false,
         "locked": false
        },
        {
         "code": ">>> assert(schools_by_city.labels == (\"City\", \"Applied average\", \"Acceptance Rate average\"))\n",
         "hidden": false,
         "locked": false
        },
        {
         "code": ">>> assert(high_acceptance_city.num_rows == 5)\n",
         "hidden": false,
         "locked": false
        }
       ],
       "scored": true,
       "setup": "",
       "teardown": "",
       "type": "doctest"
      }
     ]
    },
    "q4_2": {
     "name": "q4_2",
     "points": 2,
     "suites": [
      {
       "cases": [
        {
         "code": ">>> admission_f_m.column(\"Accepted\").item(0) == 1494\nTrue",
         "hidden": false,
         "locked": false
        }
       ],
       "scored": true,
       "setup": "",
       "teardown": "",
       "type": "doctest"
      }
     ]
    },
    "q4_3": {
     "name": "q4_3",
     "points": null,
     "suites": [
      {
       "cases": [
        {
         "code": ">>> admission_f_m.column(\"Acceptance Rate\").item(0) == 0.345753\nFalse",
         "hidden": false,
         "locked": false
        }
       ],
       "scored": true,
       "setup": "",
       "teardown": "",
       "type": "doctest"
      }
     ]
    },
    "q4_5": {
     "name": "q4_5",
     "points": [
      0
     ],
     "suites": [
      {
       "cases": [
        {
         "code": ">>> isinstance(q4_5, np.ndarray)\nTrue",
         "hidden": false,
         "locked": false
        }
       ],
       "scored": true,
       "setup": "",
       "teardown": "",
       "type": "doctest"
      }
     ]
    },
    "q4_7": {
     "name": "q4_7",
     "points": [
      0
     ],
     "suites": [
      {
       "cases": [
        {
         "code": ">>> isinstance(q4_7, np.ndarray)\nTrue",
         "hidden": false,
         "locked": false
        }
       ],
       "scored": true,
       "setup": "",
       "teardown": "",
       "type": "doctest"
      }
     ]
    }
   }
  }
 },
 "nbformat": 4,
 "nbformat_minor": 5
}
